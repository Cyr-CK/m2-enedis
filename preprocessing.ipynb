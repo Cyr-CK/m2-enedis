{
 "cells": [
  {
   "cell_type": "markdown",
   "metadata": {},
   "source": [
    "### Scripts Python : processing"
   ]
  },
  {
   "cell_type": "code",
   "execution_count": 131,
   "metadata": {},
   "outputs": [
    {
     "name": "stdout",
     "output_type": "stream",
     "text": [
      "The autoreload extension is already loaded. To reload it, use:\n",
      "  %reload_ext autoreload\n"
     ]
    }
   ],
   "source": [
    "%load_ext autoreload\n",
    "%autoreload 2"
   ]
  },
  {
   "cell_type": "code",
   "execution_count": 132,
   "metadata": {},
   "outputs": [],
   "source": [
    "import os\n",
    "import pandas as pd"
   ]
  },
  {
   "cell_type": "markdown",
   "metadata": {},
   "source": [
    "##### Columns selection (MAJ possible selon les var pertinentes au modèle)"
   ]
  },
  {
   "cell_type": "code",
   "execution_count": 133,
   "metadata": {},
   "outputs": [],
   "source": [
    "# Pour les nouvelles données\n",
    "def select_columns(new_data):\n",
    "\n",
    "    relevant_columns = ['Année_construction',\n",
    "                        'Code_postal_(brut)',\n",
    "                        'Coût_total_5_usages',\n",
    "                        'Etiquette_DPE',\n",
    "                        'Etiquette_GES',\n",
    "                        'Hauteur_sous-plafond',\n",
    "                        'Logement',\n",
    "                        'Nombre_niveau_logement',\n",
    "                        'Surface_habitable_logement',\n",
    "                        'Type_bâtiment']\n",
    "\n",
    "    new_data = new_data[relevant_columns]\n",
    "\n",
    "    return new_data"
   ]
  },
  {
   "cell_type": "markdown",
   "metadata": {},
   "source": [
    "##### Création de variables"
   ]
  },
  {
   "cell_type": "code",
   "execution_count": 134,
   "metadata": {},
   "outputs": [],
   "source": [
    "# Pour les nouvelles données\n",
    "def get_year_of_construct(value):\n",
    "    year = int(value[:4])\n",
    "    return year"
   ]
  },
  {
   "cell_type": "code",
   "execution_count": 135,
   "metadata": {},
   "outputs": [],
   "source": [
    "# Pour les nouvelles données\n",
    "def create_vars(new_data):\n",
    "    if (not pd.Series([\"Logement\"]).isin(new_data.columns)[0]):\n",
    "        new_data[\"Logement\"] = 'neuf'\n",
    "\n",
    "    if (not pd.Series([\"Année_construction\"]).isin(new_data.columns)[0]):\n",
    "        from datetime import date\n",
    "        new_data[\"Année_construction\"] = new_data[\"Date_visite_diagnostiqueur\"].apply(get_year_of_construct)\n",
    "\n",
    "    return new_data"
   ]
  },
  {
   "cell_type": "markdown",
   "metadata": {},
   "source": [
    "##### Cleaning and converting wrongly encoded data (\",\" vs \".\")"
   ]
  },
  {
   "cell_type": "code",
   "execution_count": 136,
   "metadata": {},
   "outputs": [],
   "source": [
    "# Pour les nouvelles données\n",
    "def clean_and_convert(value):\n",
    "    if pd.isna(value):  # Vérifie la présence de valeurs NaN ou de chaînes ' NaN'\n",
    "        return value  # Préserve les NaN en tant que valeur None\n",
    "    else:\n",
    "        value = str(value).replace(',', '.')  # Remplace les virgules par des points\n",
    "        return pd.to_numeric(value, errors='coerce')  # Conversion en valeur numérique"
   ]
  },
  {
   "cell_type": "code",
   "execution_count": 137,
   "metadata": {},
   "outputs": [],
   "source": [
    "# # Pour les nouvelles données\n",
    "# def cleaning_and_converting(new_data):\n",
    "#     new_data.loc[:,\"Besoin_ECS\"] = new_data[\"Besoin_ECS\"].apply(clean_and_convert)\n",
    "#     new_data.loc[:,\"Besoin_refroidissement\"] = new_data[\"Besoin_refroidissement\"].apply(clean_and_convert)\n",
    "#     return new_data"
   ]
  },
  {
   "cell_type": "markdown",
   "metadata": {},
   "source": [
    "##### **Embranchement 1** : Importation des données initiales et prétraitement (optimisé pour les débits internet limités)"
   ]
  },
  {
   "cell_type": "code",
   "execution_count": 138,
   "metadata": {},
   "outputs": [
    {
     "name": "stderr",
     "output_type": "stream",
     "text": [
      "C:\\Users\\Evidya\\AppData\\Local\\Temp\\ipykernel_12184\\1169846585.py:2: DtypeWarning: Columns (80,100,111,112,132,133) have mixed types. Specify dtype option on import or set low_memory=False.\n",
      "  logements_neufs = pd.read_csv(os.path.join('data','raw','neufs.csv'))\n",
      "C:\\Users\\Evidya\\AppData\\Local\\Temp\\ipykernel_12184\\1169846585.py:3: DtypeWarning: Columns (159,191,202,208,214,215,218,219,220,221,228,232) have mixed types. Specify dtype option on import or set low_memory=False.\n",
      "  logements_existants = pd.read_csv(os.path.join('data','raw','existents.csv'))\n"
     ]
    }
   ],
   "source": [
    "# Importation des données\n",
    "logements_neufs = pd.read_csv(os.path.join('data','raw','neufs.csv'))\n",
    "logements_existants = pd.read_csv(os.path.join('data','raw','existents.csv'))"
   ]
  },
  {
   "cell_type": "code",
   "execution_count": 139,
   "metadata": {},
   "outputs": [],
   "source": [
    "# Pour les anciens\n",
    "logements_existants[\"Logement\"] = \"ancien\"\n",
    "logements_existants[\"Année_construction\"] = logements_existants[\"Date_visite_diagnostiqueur\"].apply(get_year_of_construct)\n",
    "\n",
    "# Pour les neufs (et les futures données qui seront produites)\n",
    "logements_neufs = create_vars(logements_neufs)"
   ]
  },
  {
   "cell_type": "code",
   "execution_count": 140,
   "metadata": {},
   "outputs": [
    {
     "data": {
      "text/plain": [
       "(59213, 10)"
      ]
     },
     "execution_count": 140,
     "metadata": {},
     "output_type": "execute_result"
    }
   ],
   "source": [
    "logements_neufs = select_columns(logements_neufs)\n",
    "logements_neufs.shape"
   ]
  },
  {
   "cell_type": "code",
   "execution_count": 141,
   "metadata": {},
   "outputs": [
    {
     "data": {
      "text/plain": [
       "(398114, 10)"
      ]
     },
     "execution_count": 141,
     "metadata": {},
     "output_type": "execute_result"
    }
   ],
   "source": [
    "logements_existants = select_columns(logements_existants)\n",
    "logements_existants.shape"
   ]
  },
  {
   "cell_type": "code",
   "execution_count": 142,
   "metadata": {},
   "outputs": [],
   "source": [
    "# logements_existants = cleaning_and_converting(logements_existants)\n",
    "# logements_neufs = cleaning_and_converting(logements_neufs)"
   ]
  },
  {
   "cell_type": "code",
   "execution_count": 143,
   "metadata": {},
   "outputs": [],
   "source": [
    "df = pd.concat([logements_existants, logements_neufs], ignore_index=True, axis=0)"
   ]
  },
  {
   "cell_type": "code",
   "execution_count": 144,
   "metadata": {},
   "outputs": [
    {
     "data": {
      "text/plain": [
       "Index(['Année_construction', 'Code_postal_(brut)', 'Coût_total_5_usages',\n",
       "       'Etiquette_DPE', 'Etiquette_GES', 'Hauteur_sous-plafond', 'Logement',\n",
       "       'Nombre_niveau_logement', 'Surface_habitable_logement',\n",
       "       'Type_bâtiment'],\n",
       "      dtype='object')"
      ]
     },
     "execution_count": 144,
     "metadata": {},
     "output_type": "execute_result"
    }
   ],
   "source": [
    "df.columns"
   ]
  },
  {
   "cell_type": "code",
   "execution_count": 145,
   "metadata": {},
   "outputs": [],
   "source": [
    "# A décommenter si on veut produire le csv du dataset déjà pré-traité\n",
    "df.to_csv(os.path.join('data','processed','full_data_bretagne.csv'), index=False, sep=\";\", encoding=\"utf-8-sig\")"
   ]
  },
  {
   "cell_type": "markdown",
   "metadata": {},
   "source": [
    "##### **Embranchement 2** : Importation des données pré-traitées"
   ]
  },
  {
   "cell_type": "code",
   "execution_count": 146,
   "metadata": {},
   "outputs": [
    {
     "name": "stdout",
     "output_type": "stream",
     "text": [
      "The autoreload extension is already loaded. To reload it, use:\n",
      "  %reload_ext autoreload\n"
     ]
    }
   ],
   "source": [
    "%load_ext autoreload\n",
    "%autoreload 2"
   ]
  },
  {
   "cell_type": "code",
   "execution_count": 147,
   "metadata": {},
   "outputs": [],
   "source": [
    "import os \n",
    "import pandas as pd\n",
    "\n",
    "df = pd.read_csv(os.path.join('data','processed','full_data_bretagne.csv'), sep=\";\")"
   ]
  },
  {
   "cell_type": "code",
   "execution_count": 148,
   "metadata": {},
   "outputs": [
    {
     "data": {
      "text/plain": [
       "Index(['Année_construction', 'Code_postal_(brut)', 'Coût_total_5_usages',\n",
       "       'Etiquette_DPE', 'Etiquette_GES', 'Hauteur_sous-plafond', 'Logement',\n",
       "       'Nombre_niveau_logement', 'Surface_habitable_logement',\n",
       "       'Type_bâtiment'],\n",
       "      dtype='object')"
      ]
     },
     "execution_count": 148,
     "metadata": {},
     "output_type": "execute_result"
    }
   ],
   "source": [
    "df.columns"
   ]
  },
  {
   "cell_type": "markdown",
   "metadata": {},
   "source": [
    "##### Split train/test"
   ]
  },
  {
   "cell_type": "code",
   "execution_count": 149,
   "metadata": {},
   "outputs": [],
   "source": [
    "def data_split(data, target=\"Etiquette_DPE\", test_size=0.3, stratify=True, seed=0):\n",
    "    from sklearn.model_selection import train_test_split\n",
    "\n",
    "    if stratify:\n",
    "        return train_test_split(data, test_size=test_size, random_state=seed, stratify=data[target])\n",
    "    else:\n",
    "        return train_test_split(data, test_size=test_size, random_state=seed)"
   ]
  },
  {
   "cell_type": "code",
   "execution_count": 150,
   "metadata": {},
   "outputs": [],
   "source": [
    "X_train, X_test = data_split(df, target=\"Etiquette_DPE\", test_size=0.3, stratify=True, seed=0)"
   ]
  },
  {
   "cell_type": "markdown",
   "metadata": {},
   "source": [
    "##### Qualitative and quantitative data processing (after train/test split)"
   ]
  },
  {
   "cell_type": "code",
   "execution_count": 151,
   "metadata": {},
   "outputs": [],
   "source": [
    "# Pour toutes les données (cf. paramètres de la fonction)\n",
    "\n",
    "# exporter params d'un retrain pour les recharger tant que retrain=False\n",
    "# exporter fit du train (original_data) tant que retrain=False (optimisation des calculs)\n",
    "def quali_quanti_preprocessing(original_data, new_data, filename=\"median_imputer.pkl\"):\n",
    "    import pandas as pd\n",
    "    \n",
    "    # QUALITATIVE PREPROCESSING\n",
    "\n",
    "    # On remplace des adresses inconnues par la chaîne \"inconnu\"\n",
    "    # new_data['Identifiant__BAN'] = new_data['Identifiant__BAN'].fillna('inconnu')\n",
    "    # new_data['Nom__rue_(BAN)'] = new_data['Nom__rue_(BAN)'].fillna('inconnu')\n",
    "    # new_data['Adresse_(BAN)'] = new_data['Adresse_(BAN)'].fillna('inconnu')\n",
    "    # new_data['Adresse_brute'] = new_data['Adresse_brute'].fillna('inconnu')\n",
    "    \n",
    "    # Le code est encodé parfois en tant que chaîne ou entier. On uniformise en chaîne de caractères\n",
    "    # original_data['Code_INSEE_(BAN)'] = original_data['Code_INSEE_(BAN)'].apply(lambda x: str(x) if pd.notna(x) else x)\n",
    "    # new_data['Code_INSEE_(BAN)'] = new_data['Code_INSEE_(BAN)'].apply(lambda x: str(x) if pd.notna(x) else x)\n",
    "\n",
    "    quali_data_new = new_data.select_dtypes(include=['object'])\n",
    "    for column in quali_data_new.columns:\n",
    "        # Calcul de la proportion (probabilité) des modalités dans chaque variable qualitative\n",
    "        proportions = original_data[column].value_counts(normalize=True)\n",
    "        \n",
    "        # On applique la fonction à la colonne\n",
    "        filling = proportions.sample(weights=proportions, replace=True).index[0]\n",
    "        original_data[column] = original_data[column].fillna(filling)\n",
    "        filling = proportions.sample(weights=proportions, replace=True).index[0]\n",
    "        quali_data_new[column] = quali_data_new[column].fillna(filling)\n",
    "        \n",
    "\n",
    "        # if retrain:\n",
    "        #     quali_data_orig = original_data.select_dtypes(include=['object'])\n",
    "        #     quali_data_orig[column] = quali_data_orig.apply(impute_with_proportions, axis=1)\n",
    "    \n",
    "\n",
    "    # QUANTITATIVE PREPROCESSING\n",
    "    ## Missing values\n",
    "    from sklearn.impute import SimpleImputer\n",
    "    quanti_data_new = new_data.select_dtypes(exclude=['object'])\n",
    "    imputer = SimpleImputer(strategy=\"median\")\n",
    "    original_data[quanti_data_new.columns] = imputer.fit_transform(original_data[quanti_data_new.columns])\n",
    "    quanti_data_new[quanti_data_new.columns] = imputer.transform(quanti_data_new)\n",
    "\n",
    "    import pickle as pk\n",
    "    pk.dump(imputer, open(os.path.join(\"objects\",filename), \"wb\"))\n",
    "    \n",
    "    new_data_processed = pd.concat([quali_data_new, quanti_data_new], axis=1)\n",
    "    return original_data, new_data_processed"
   ]
  },
  {
   "cell_type": "code",
   "execution_count": 152,
   "metadata": {},
   "outputs": [],
   "source": [
    "orig, new = quali_quanti_preprocessing(X_train, X_test)"
   ]
  },
  {
   "cell_type": "markdown",
   "metadata": {},
   "source": [
    "##### Split regressors/target"
   ]
  },
  {
   "cell_type": "code",
   "execution_count": 153,
   "metadata": {},
   "outputs": [],
   "source": [
    "def define_target(train, test, target=\"Etiquette_DPE\"):\n",
    "    X_train = train[train.columns.difference([target])]\n",
    "    y_train = train[target]\n",
    "    X_test = test[test.columns.difference([target])]\n",
    "    y_test = test[target]\n",
    "    return X_train, X_test, y_train, y_test"
   ]
  },
  {
   "cell_type": "code",
   "execution_count": 154,
   "metadata": {},
   "outputs": [],
   "source": [
    "X_train, X_test, y_train, y_test = define_target(orig, new, target=\"Etiquette_DPE\")"
   ]
  },
  {
   "cell_type": "markdown",
   "metadata": {},
   "source": [
    "#### Split des données quanti et quali"
   ]
  },
  {
   "cell_type": "code",
   "execution_count": 155,
   "metadata": {},
   "outputs": [],
   "source": [
    "def to_drop_before_model(case=\"classification\"):\n",
    "    if case==\"classification\":\n",
    "        return [\"Adresse_brute\",\"Code_INSEE_(BAN)\", \"Date_fin_validité_DPE\", \"Date_réception_DPE\", \n",
    "           \"Date_visite_diagnostiqueur\", \"Date_établissement_DPE\", \"Identifiant__BAN\", \"N°DPE\", \"_geopoint\"]\n",
    "    elif case==\"regression\":\n",
    "        return []\n",
    "    else:\n",
    "        print(\"Error. Only 'classification' or 'regression' supported\")\n",
    "        return"
   ]
  },
  {
   "cell_type": "code",
   "execution_count": 156,
   "metadata": {},
   "outputs": [],
   "source": [
    "to_drop = to_drop_before_model(case=\"classification\")"
   ]
  },
  {
   "cell_type": "code",
   "execution_count": 157,
   "metadata": {},
   "outputs": [],
   "source": [
    "def split_type(X_train, X_test, to_drop, ohe_name=\"OHE.pkl\"):\n",
    "    quali_train = X_train.select_dtypes(include=\"object\")\n",
    "    quali_train = quali_train.drop(to_drop, axis=1) # Inutile de faire une ACM sur une variable avec autant de modalités possibles\n",
    "    quali_test = X_test.select_dtypes(include=\"object\")\n",
    "    quali_test = quali_test.drop(to_drop, axis=1) # Inutile de faire une ACM sur une variable avec autant de modalités possibles\n",
    "\n",
    "    quantit_train = X_train.select_dtypes(exclude=\"object\")\n",
    "    quantit_test = X_test.select_dtypes(exclude=\"object\")\n",
    "\n",
    "    from sklearn.preprocessing import OneHotEncoder\n",
    "\n",
    "    encoder = OneHotEncoder()\n",
    "\n",
    "    encoder.fit(pd.concat([quali_train, quali_test], axis=0))\n",
    "    #print(encoder.get_feature_names_out(quali_train.columns))\n",
    "    quali_train_encoded = encoder.transform(quali_train).toarray()\n",
    "    qualit_train = pd.DataFrame(quali_train_encoded, index=quali_train.index, columns=encoder.get_feature_names_out(quali_train.columns))\n",
    "    quali_test_encoded = encoder.transform(quali_test).toarray()\n",
    "    qualit_test = pd.DataFrame(quali_test_encoded, index=quali_test.index, columns=encoder.get_feature_names_out(quali_test.columns))\n",
    "    # print(quali_train.apply(pd.unique).apply(len))\n",
    "\n",
    "    import pickle as pk\n",
    "    pk.dump(encoder, open(os.path.join(\"objects\",ohe_name), \"wb\"))\n",
    "\n",
    "    return qualit_train, qualit_test, quantit_train, quantit_test"
   ]
  },
  {
   "cell_type": "code",
   "execution_count": 158,
   "metadata": {},
   "outputs": [],
   "source": [
    "quali_train, quali_test, quanti_train, quanti_test = split_type(X_train, X_test, to_drop=[])"
   ]
  },
  {
   "cell_type": "markdown",
   "metadata": {},
   "source": [
    "#### ACM"
   ]
  },
  {
   "cell_type": "code",
   "execution_count": 159,
   "metadata": {},
   "outputs": [],
   "source": [
    "def chunking_MCA(quali_train, quali_test, n_components, n_iter, seed, chunk_size):\n",
    "    # Exportation en csv pour le chunking\n",
    "    quali_train.to_csv(os.path.join('data','processed','quali_train.csv'), index=False, sep=\";\", encoding=\"utf-8-sig\")\n",
    "    quali_test.to_csv(os.path.join('data','processed','quali_test.csv'), index=False, sep=\";\", encoding=\"utf-8-sig\")\n",
    "\n",
    "    import prince\n",
    "\n",
    "    mca = prince.MCA(\n",
    "        n_components=n_components,\n",
    "        n_iter=n_iter,\n",
    "        copy=False,\n",
    "        check_input=False,\n",
    "        random_state=seed,\n",
    "        engine=\"sklearn\",\n",
    "        handle_unknown=\"error\"  # paramètre identique à celui de sklearn.preprocessing.OneHotEncoder\n",
    "    )\n",
    "\n",
    "    print(\"MCA : fitting to train set\")\n",
    "    quali_train_mca_lst = []\n",
    "    i = 0\n",
    "    for chunk in pd.read_csv(os.path.join('data','processed','quali_train.csv'), sep=';', chunksize=chunk_size):\n",
    "        mca = mca.fit(chunk)\n",
    "        quali_train_mca_lst.append(mca.transform(chunk))\n",
    "        i += 1\n",
    "        if i%100==0:\n",
    "            print((i*chunk_size)/quali_train.shape[0])\n",
    "    \n",
    "    quali_train_mca = pd.DataFrame()\n",
    "    for elem in quali_train_mca_lst:\n",
    "        quali_train_mca = pd.concat([quali_train_mca, pd.DataFrame(elem)], axis=0, ignore_index=True)\n",
    "\n",
    "    print(\"MCA : transforming test set\")\n",
    "\n",
    "    quali_test_mca_lst = []\n",
    "    i = 0\n",
    "    for chunk in pd.read_csv(os.path.join('data','processed','quali_test.csv'), sep=';', chunksize=chunk_size):\n",
    "        quali_test_mca_lst.append(mca.transform(chunk))\n",
    "        i += 1\n",
    "        if i%50==0:\n",
    "            print((i*chunk_size)/quali_test.shape[0])\n",
    "    \n",
    "    quali_test_mca = pd.DataFrame()\n",
    "    for elem in quali_test_mca_lst:\n",
    "        quali_test_mca = pd.concat([quali_test_mca, pd.DataFrame(elem)], axis=0, ignore_index=True)\n",
    "    \n",
    "    os.remove(os.path.join('data','processed','quali_train.csv'))\n",
    "    os.remove(os.path.join('data','processed','quali_test.csv'))\n",
    "\n",
    "    return quali_train_mca, quali_test_mca"
   ]
  },
  {
   "cell_type": "code",
   "execution_count": 160,
   "metadata": {},
   "outputs": [
    {
     "name": "stdout",
     "output_type": "stream",
     "text": [
      "MCA : fitting to train set\n",
      "0.312375049980008\n",
      "0.624750099960016\n",
      "0.9371251499400239\n",
      "MCA : transforming test set\n",
      "0.3644341431059993\n",
      "0.7288682862119986\n"
     ]
    }
   ],
   "source": [
    "quali_train_mca, quali_test_mca =  chunking_MCA(quali_train, quali_test, n_components=10, n_iter=10, seed=0, chunk_size=1000)"
   ]
  },
  {
   "cell_type": "code",
   "execution_count": 161,
   "metadata": {},
   "outputs": [],
   "source": [
    "def merge_type_back(quali_train_mca, quali_test_mca, quanti_train, quanti_test, train_index, test_index):\n",
    "    # Convert colnames to str\n",
    "    quali_train_mca.columns = quali_train_mca.columns.astype(str)\n",
    "    quali_test_mca.columns = quali_test_mca.columns.astype(str)\n",
    "\n",
    "    quali_train_mca.set_index(train_index, inplace=True)\n",
    "    quali_test_mca.set_index(test_index, inplace=True)\n",
    "\n",
    "    # Concaténer, quali_train et quanti_train de même avec test\n",
    "    X_train_mca = pd.concat([quanti_train, quali_train_mca], axis=1)\n",
    "    X_test_mca = pd.concat([quanti_test, quali_test_mca], axis=1)\n",
    "\n",
    "    return X_train_mca, X_test_mca"
   ]
  },
  {
   "cell_type": "code",
   "execution_count": 162,
   "metadata": {},
   "outputs": [],
   "source": [
    "X_train_mca, X_test_mca = merge_type_back(quali_train, quali_test, quanti_train, quanti_test, X_train.index, X_test.index)"
   ]
  },
  {
   "cell_type": "markdown",
   "metadata": {},
   "source": [
    "### Standardisation"
   ]
  },
  {
   "cell_type": "code",
   "execution_count": 163,
   "metadata": {},
   "outputs": [],
   "source": [
    "from sklearn.preprocessing import StandardScaler\n",
    "\n",
    "scaler = StandardScaler()\n",
    "\n",
    "X_train_mca_scaled = pd.DataFrame(scaler.fit_transform(X_train_mca), index=X_train_mca.index, columns=X_train_mca.columns)\n",
    "X_test_mca_scaled = pd.DataFrame(scaler.transform(X_test_mca), index=X_test_mca.index, columns=X_test_mca.columns)"
   ]
  },
  {
   "cell_type": "markdown",
   "metadata": {},
   "source": [
    "### Feature selection"
   ]
  },
  {
   "cell_type": "code",
   "execution_count": 164,
   "metadata": {},
   "outputs": [
    {
     "name": "stderr",
     "output_type": "stream",
     "text": [
      "[Parallel(n_jobs=1)]: Done  49 tasks      | elapsed:   29.1s\n",
      "[Parallel(n_jobs=1)]: Done  49 tasks      | elapsed:    1.9s\n"
     ]
    }
   ],
   "source": [
    "from sklearn.ensemble import RandomForestClassifier\n",
    "\n",
    "rf = RandomForestClassifier(n_estimators=100, min_samples_split=5, random_state=0, verbose=1)\n",
    "rf.fit(X_train_mca, y_train)\n",
    "y_pred = rf.predict(X_test_mca)"
   ]
  },
  {
   "cell_type": "code",
   "execution_count": 165,
   "metadata": {},
   "outputs": [
    {
     "name": "stdout",
     "output_type": "stream",
     "text": [
      "              precision    recall  f1-score   support\n",
      "\n",
      "           A       0.96      0.97      0.96      8402\n",
      "           B       0.92      0.90      0.91      7973\n",
      "           C       0.94      0.98      0.96     41301\n",
      "           D       0.91      0.91      0.91     38342\n",
      "           E       0.89      0.88      0.88     24184\n",
      "           F       0.86      0.83      0.84     10051\n",
      "           G       0.91      0.82      0.86      6946\n",
      "\n",
      "    accuracy                           0.92    137199\n",
      "   macro avg       0.91      0.90      0.90    137199\n",
      "weighted avg       0.92      0.92      0.92    137199\n",
      "\n"
     ]
    }
   ],
   "source": [
    "from sklearn.metrics import classification_report\n",
    "\n",
    "print(classification_report(y_test, y_pred))"
   ]
  },
  {
   "cell_type": "code",
   "execution_count": 166,
   "metadata": {},
   "outputs": [
    {
     "data": {
      "image/png": "[encoded data removed]",
      "text/plain": [
       "<Figure size 800x800 with 1 Axes>"
      ]
     },
     "metadata": {},
     "output_type": "display_data"
    }
   ],
   "source": [
    "import pandas as pd\n",
    "import matplotlib.pyplot as plt\n",
    "plt.figure(figsize=(8,8))\n",
    "\n",
    "feature_names = rf.feature_names_in_[:20]\n",
    "\n",
    "mdi_importances = pd.Series(\n",
    "    rf.feature_importances_[:20], index=feature_names\n",
    ").sort_values(ascending=True)\n",
    "\n",
    "ax = mdi_importances.plot.barh()\n",
    "ax.set_title(\"Random Forest Feature Importances (MDI)\")\n",
    "ax.figure.tight_layout()"
   ]
  },
  {
   "cell_type": "markdown",
   "metadata": {},
   "source": [
    "### Modélisation"
   ]
  },
  {
   "cell_type": "code",
   "execution_count": 167,
   "metadata": {},
   "outputs": [
    {
     "ename": "KeyError",
     "evalue": "\"['Etiquette_DPE'] not in index\"",
     "output_type": "error",
     "traceback": [
      "\u001b[1;31m---------------------------------------------------------------------------\u001b[0m",
      "\u001b[1;31mKeyError\u001b[0m                                  Traceback (most recent call last)",
      "Cell \u001b[1;32mIn[167], line 16\u001b[0m\n\u001b[0;32m     12\u001b[0m \u001b[38;5;28;01mfrom\u001b[39;00m \u001b[38;5;21;01msklearn\u001b[39;00m\u001b[38;5;21;01m.\u001b[39;00m\u001b[38;5;21;01mpreprocessing\u001b[39;00m \u001b[38;5;28;01mimport\u001b[39;00m OneHotEncoder\n\u001b[0;32m     14\u001b[0m encoder \u001b[38;5;241m=\u001b[39m OneHotEncoder()\n\u001b[1;32m---> 16\u001b[0m encoder\u001b[38;5;241m.\u001b[39mfit(\u001b[43mX_train\u001b[49m\u001b[43m[\u001b[49m\u001b[38;5;28;43mvars\u001b[39;49m\u001b[43m]\u001b[49m)\n",
      "File \u001b[1;32mc:\\Users\\Evidya\\Documents\\cours M2\\python ML\\projet\\projet_ml\\m2-enedis\\.venv\\Lib\\site-packages\\pandas\\core\\frame.py:4108\u001b[0m, in \u001b[0;36mDataFrame.__getitem__\u001b[1;34m(self, key)\u001b[0m\n\u001b[0;32m   4106\u001b[0m     \u001b[38;5;28;01mif\u001b[39;00m is_iterator(key):\n\u001b[0;32m   4107\u001b[0m         key \u001b[38;5;241m=\u001b[39m \u001b[38;5;28mlist\u001b[39m(key)\n\u001b[1;32m-> 4108\u001b[0m     indexer \u001b[38;5;241m=\u001b[39m \u001b[38;5;28;43mself\u001b[39;49m\u001b[38;5;241;43m.\u001b[39;49m\u001b[43mcolumns\u001b[49m\u001b[38;5;241;43m.\u001b[39;49m\u001b[43m_get_indexer_strict\u001b[49m\u001b[43m(\u001b[49m\u001b[43mkey\u001b[49m\u001b[43m,\u001b[49m\u001b[43m \u001b[49m\u001b[38;5;124;43m\"\u001b[39;49m\u001b[38;5;124;43mcolumns\u001b[39;49m\u001b[38;5;124;43m\"\u001b[39;49m\u001b[43m)\u001b[49m[\u001b[38;5;241m1\u001b[39m]\n\u001b[0;32m   4110\u001b[0m \u001b[38;5;66;03m# take() does not accept boolean indexers\u001b[39;00m\n\u001b[0;32m   4111\u001b[0m \u001b[38;5;28;01mif\u001b[39;00m \u001b[38;5;28mgetattr\u001b[39m(indexer, \u001b[38;5;124m\"\u001b[39m\u001b[38;5;124mdtype\u001b[39m\u001b[38;5;124m\"\u001b[39m, \u001b[38;5;28;01mNone\u001b[39;00m) \u001b[38;5;241m==\u001b[39m \u001b[38;5;28mbool\u001b[39m:\n",
      "File \u001b[1;32mc:\\Users\\Evidya\\Documents\\cours M2\\python ML\\projet\\projet_ml\\m2-enedis\\.venv\\Lib\\site-packages\\pandas\\core\\indexes\\base.py:6200\u001b[0m, in \u001b[0;36mIndex._get_indexer_strict\u001b[1;34m(self, key, axis_name)\u001b[0m\n\u001b[0;32m   6197\u001b[0m \u001b[38;5;28;01melse\u001b[39;00m:\n\u001b[0;32m   6198\u001b[0m     keyarr, indexer, new_indexer \u001b[38;5;241m=\u001b[39m \u001b[38;5;28mself\u001b[39m\u001b[38;5;241m.\u001b[39m_reindex_non_unique(keyarr)\n\u001b[1;32m-> 6200\u001b[0m \u001b[38;5;28;43mself\u001b[39;49m\u001b[38;5;241;43m.\u001b[39;49m\u001b[43m_raise_if_missing\u001b[49m\u001b[43m(\u001b[49m\u001b[43mkeyarr\u001b[49m\u001b[43m,\u001b[49m\u001b[43m \u001b[49m\u001b[43mindexer\u001b[49m\u001b[43m,\u001b[49m\u001b[43m \u001b[49m\u001b[43maxis_name\u001b[49m\u001b[43m)\u001b[49m\n\u001b[0;32m   6202\u001b[0m keyarr \u001b[38;5;241m=\u001b[39m \u001b[38;5;28mself\u001b[39m\u001b[38;5;241m.\u001b[39mtake(indexer)\n\u001b[0;32m   6203\u001b[0m \u001b[38;5;28;01mif\u001b[39;00m \u001b[38;5;28misinstance\u001b[39m(key, Index):\n\u001b[0;32m   6204\u001b[0m     \u001b[38;5;66;03m# GH 42790 - Preserve name from an Index\u001b[39;00m\n",
      "File \u001b[1;32mc:\\Users\\Evidya\\Documents\\cours M2\\python ML\\projet\\projet_ml\\m2-enedis\\.venv\\Lib\\site-packages\\pandas\\core\\indexes\\base.py:6252\u001b[0m, in \u001b[0;36mIndex._raise_if_missing\u001b[1;34m(self, key, indexer, axis_name)\u001b[0m\n\u001b[0;32m   6249\u001b[0m     \u001b[38;5;28;01mraise\u001b[39;00m \u001b[38;5;167;01mKeyError\u001b[39;00m(\u001b[38;5;124mf\u001b[39m\u001b[38;5;124m\"\u001b[39m\u001b[38;5;124mNone of [\u001b[39m\u001b[38;5;132;01m{\u001b[39;00mkey\u001b[38;5;132;01m}\u001b[39;00m\u001b[38;5;124m] are in the [\u001b[39m\u001b[38;5;132;01m{\u001b[39;00maxis_name\u001b[38;5;132;01m}\u001b[39;00m\u001b[38;5;124m]\u001b[39m\u001b[38;5;124m\"\u001b[39m)\n\u001b[0;32m   6251\u001b[0m not_found \u001b[38;5;241m=\u001b[39m \u001b[38;5;28mlist\u001b[39m(ensure_index(key)[missing_mask\u001b[38;5;241m.\u001b[39mnonzero()[\u001b[38;5;241m0\u001b[39m]]\u001b[38;5;241m.\u001b[39munique())\n\u001b[1;32m-> 6252\u001b[0m \u001b[38;5;28;01mraise\u001b[39;00m \u001b[38;5;167;01mKeyError\u001b[39;00m(\u001b[38;5;124mf\u001b[39m\u001b[38;5;124m\"\u001b[39m\u001b[38;5;132;01m{\u001b[39;00mnot_found\u001b[38;5;132;01m}\u001b[39;00m\u001b[38;5;124m not in index\u001b[39m\u001b[38;5;124m\"\u001b[39m)\n",
      "\u001b[1;31mKeyError\u001b[0m: \"['Etiquette_DPE'] not in index\""
     ]
    }
   ],
   "source": [
    "vars = ['Année_construction',\n",
    "        'Surface_habitable_logement',\n",
    "        'Coût_total_5_usages',\n",
    "        'Etiquette_GES',\n",
    "        'Code_postal_(brut)',\n",
    "        'Logement',\n",
    "        'Type_bâtiment',\n",
    "        'Hauteur_sous-plafond',\n",
    "        'Nombre_niveau_logement',\n",
    "        'Etiquette_DPE'\n",
    "        ]\n",
    "from sklearn.preprocessing import OneHotEncoder\n",
    "\n",
    "encoder = OneHotEncoder()\n",
    "\n",
    "encoder.fit(X_train[vars])"
   ]
  },
  {
   "cell_type": "code",
   "execution_count": 168,
   "metadata": {},
   "outputs": [],
   "source": [
    "vars = ['Année_construction',\n",
    "        'Code_postal_(brut)',\n",
    "        'Coût_total_5_usages',\n",
    "        'Hauteur_sous-plafond',\n",
    "        'Nombre_niveau_logement',\n",
    "        'Surface_habitable_logement',\n",
    "        'Etiquette_GES_A',\n",
    "        'Etiquette_GES_B',\n",
    "        # 'Etiquette_GES_C',\n",
    "        'Etiquette_GES_D',\n",
    "        'Etiquette_GES_E',\n",
    "        'Etiquette_GES_F',\n",
    "        'Etiquette_GES_G',\n",
    "        'Logement_neuf',\n",
    "        # 'Type_bâtiment_appartement',\n",
    "        'Type_bâtiment_immeuble',\n",
    "        'Type_bâtiment_maison'\n",
    "        ]"
   ]
  },
  {
   "cell_type": "code",
   "execution_count": 169,
   "metadata": {},
   "outputs": [
    {
     "data": {
      "text/html": [
       "<div>\n",
       "<style scoped>\n",
       "    .dataframe tbody tr th:only-of-type {\n",
       "        vertical-align: middle;\n",
       "    }\n",
       "\n",
       "    .dataframe tbody tr th {\n",
       "        vertical-align: top;\n",
       "    }\n",
       "\n",
       "    .dataframe thead th {\n",
       "        text-align: right;\n",
       "    }\n",
       "</style>\n",
       "<table border=\"1\" class=\"dataframe\">\n",
       "  <thead>\n",
       "    <tr style=\"text-align: right;\">\n",
       "      <th></th>\n",
       "      <th>Année_construction</th>\n",
       "      <th>Code_postal_(brut)</th>\n",
       "      <th>Coût_total_5_usages</th>\n",
       "      <th>Hauteur_sous-plafond</th>\n",
       "      <th>Nombre_niveau_logement</th>\n",
       "      <th>Surface_habitable_logement</th>\n",
       "      <th>Etiquette_GES_A</th>\n",
       "      <th>Etiquette_GES_B</th>\n",
       "      <th>Etiquette_GES_D</th>\n",
       "      <th>Etiquette_GES_E</th>\n",
       "      <th>Etiquette_GES_F</th>\n",
       "      <th>Etiquette_GES_G</th>\n",
       "      <th>Logement_neuf</th>\n",
       "      <th>Type_bâtiment_immeuble</th>\n",
       "      <th>Type_bâtiment_maison</th>\n",
       "    </tr>\n",
       "  </thead>\n",
       "  <tbody>\n",
       "    <tr>\n",
       "      <th>Année_construction</th>\n",
       "      <td>1.000000</td>\n",
       "      <td>-0.024801</td>\n",
       "      <td>0.014375</td>\n",
       "      <td>-0.003631</td>\n",
       "      <td>-0.009730</td>\n",
       "      <td>-0.017971</td>\n",
       "      <td>0.021327</td>\n",
       "      <td>-0.007802</td>\n",
       "      <td>0.001245</td>\n",
       "      <td>-0.027358</td>\n",
       "      <td>-0.037204</td>\n",
       "      <td>-0.028258</td>\n",
       "      <td>-0.037859</td>\n",
       "      <td>0.048581</td>\n",
       "      <td>-0.051265</td>\n",
       "    </tr>\n",
       "    <tr>\n",
       "      <th>Code_postal_(brut)</th>\n",
       "      <td>-0.024801</td>\n",
       "      <td>1.000000</td>\n",
       "      <td>-0.017572</td>\n",
       "      <td>-0.000273</td>\n",
       "      <td>0.018759</td>\n",
       "      <td>0.004995</td>\n",
       "      <td>0.041219</td>\n",
       "      <td>-0.007541</td>\n",
       "      <td>-0.037187</td>\n",
       "      <td>-0.015397</td>\n",
       "      <td>-0.024255</td>\n",
       "      <td>-0.015204</td>\n",
       "      <td>0.052766</td>\n",
       "      <td>0.007345</td>\n",
       "      <td>-0.017295</td>\n",
       "    </tr>\n",
       "    <tr>\n",
       "      <th>Coût_total_5_usages</th>\n",
       "      <td>0.014375</td>\n",
       "      <td>-0.017572</td>\n",
       "      <td>1.000000</td>\n",
       "      <td>-0.000375</td>\n",
       "      <td>0.010584</td>\n",
       "      <td>0.220867</td>\n",
       "      <td>-0.111724</td>\n",
       "      <td>-0.022634</td>\n",
       "      <td>0.044798</td>\n",
       "      <td>0.078050</td>\n",
       "      <td>0.104090</td>\n",
       "      <td>0.095719</td>\n",
       "      <td>-0.123461</td>\n",
       "      <td>0.539520</td>\n",
       "      <td>0.093203</td>\n",
       "    </tr>\n",
       "    <tr>\n",
       "      <th>Hauteur_sous-plafond</th>\n",
       "      <td>-0.003631</td>\n",
       "      <td>-0.000273</td>\n",
       "      <td>-0.000375</td>\n",
       "      <td>1.000000</td>\n",
       "      <td>-0.000368</td>\n",
       "      <td>0.000306</td>\n",
       "      <td>0.002618</td>\n",
       "      <td>-0.002489</td>\n",
       "      <td>-0.001246</td>\n",
       "      <td>-0.000706</td>\n",
       "      <td>-0.000507</td>\n",
       "      <td>-0.000288</td>\n",
       "      <td>0.003953</td>\n",
       "      <td>-0.000452</td>\n",
       "      <td>0.000004</td>\n",
       "    </tr>\n",
       "    <tr>\n",
       "      <th>Nombre_niveau_logement</th>\n",
       "      <td>-0.009730</td>\n",
       "      <td>0.018759</td>\n",
       "      <td>0.010584</td>\n",
       "      <td>-0.000368</td>\n",
       "      <td>1.000000</td>\n",
       "      <td>0.030855</td>\n",
       "      <td>-0.016671</td>\n",
       "      <td>0.001833</td>\n",
       "      <td>-0.002609</td>\n",
       "      <td>0.010400</td>\n",
       "      <td>0.010513</td>\n",
       "      <td>0.005606</td>\n",
       "      <td>-0.025050</td>\n",
       "      <td>-0.015416</td>\n",
       "      <td>0.049132</td>\n",
       "    </tr>\n",
       "    <tr>\n",
       "      <th>Surface_habitable_logement</th>\n",
       "      <td>-0.017971</td>\n",
       "      <td>0.004995</td>\n",
       "      <td>0.220867</td>\n",
       "      <td>0.000306</td>\n",
       "      <td>0.030855</td>\n",
       "      <td>1.000000</td>\n",
       "      <td>0.070285</td>\n",
       "      <td>-0.055916</td>\n",
       "      <td>0.010810</td>\n",
       "      <td>0.039807</td>\n",
       "      <td>0.043791</td>\n",
       "      <td>0.013705</td>\n",
       "      <td>0.060245</td>\n",
       "      <td>0.137675</td>\n",
       "      <td>0.296451</td>\n",
       "    </tr>\n",
       "    <tr>\n",
       "      <th>Etiquette_GES_A</th>\n",
       "      <td>0.021327</td>\n",
       "      <td>0.041219</td>\n",
       "      <td>-0.111724</td>\n",
       "      <td>0.002618</td>\n",
       "      <td>-0.016671</td>\n",
       "      <td>0.070285</td>\n",
       "      <td>1.000000</td>\n",
       "      <td>-0.306959</td>\n",
       "      <td>-0.190077</td>\n",
       "      <td>-0.128907</td>\n",
       "      <td>-0.095465</td>\n",
       "      <td>-0.061392</td>\n",
       "      <td>0.307021</td>\n",
       "      <td>-0.029052</td>\n",
       "      <td>0.126697</td>\n",
       "    </tr>\n",
       "    <tr>\n",
       "      <th>Etiquette_GES_B</th>\n",
       "      <td>-0.007802</td>\n",
       "      <td>-0.007541</td>\n",
       "      <td>-0.022634</td>\n",
       "      <td>-0.002489</td>\n",
       "      <td>0.001833</td>\n",
       "      <td>-0.055916</td>\n",
       "      <td>-0.306959</td>\n",
       "      <td>1.000000</td>\n",
       "      <td>-0.232061</td>\n",
       "      <td>-0.157380</td>\n",
       "      <td>-0.116551</td>\n",
       "      <td>-0.074952</td>\n",
       "      <td>-0.118233</td>\n",
       "      <td>-0.016902</td>\n",
       "      <td>0.036225</td>\n",
       "    </tr>\n",
       "    <tr>\n",
       "      <th>Etiquette_GES_D</th>\n",
       "      <td>0.001245</td>\n",
       "      <td>-0.037187</td>\n",
       "      <td>0.044798</td>\n",
       "      <td>-0.001246</td>\n",
       "      <td>-0.002609</td>\n",
       "      <td>0.010810</td>\n",
       "      <td>-0.190077</td>\n",
       "      <td>-0.232061</td>\n",
       "      <td>1.000000</td>\n",
       "      <td>-0.097454</td>\n",
       "      <td>-0.072172</td>\n",
       "      <td>-0.046412</td>\n",
       "      <td>-0.145890</td>\n",
       "      <td>0.007542</td>\n",
       "      <td>-0.059671</td>\n",
       "    </tr>\n",
       "    <tr>\n",
       "      <th>Etiquette_GES_E</th>\n",
       "      <td>-0.027358</td>\n",
       "      <td>-0.015397</td>\n",
       "      <td>0.078050</td>\n",
       "      <td>-0.000706</td>\n",
       "      <td>0.010400</td>\n",
       "      <td>0.039807</td>\n",
       "      <td>-0.128907</td>\n",
       "      <td>-0.157380</td>\n",
       "      <td>-0.097454</td>\n",
       "      <td>1.000000</td>\n",
       "      <td>-0.048945</td>\n",
       "      <td>-0.031476</td>\n",
       "      <td>-0.099110</td>\n",
       "      <td>-0.009866</td>\n",
       "      <td>0.064656</td>\n",
       "    </tr>\n",
       "    <tr>\n",
       "      <th>Etiquette_GES_F</th>\n",
       "      <td>-0.037204</td>\n",
       "      <td>-0.024255</td>\n",
       "      <td>0.104090</td>\n",
       "      <td>-0.000507</td>\n",
       "      <td>0.010513</td>\n",
       "      <td>0.043791</td>\n",
       "      <td>-0.095465</td>\n",
       "      <td>-0.116551</td>\n",
       "      <td>-0.072172</td>\n",
       "      <td>-0.048945</td>\n",
       "      <td>1.000000</td>\n",
       "      <td>-0.023310</td>\n",
       "      <td>-0.073405</td>\n",
       "      <td>-0.012518</td>\n",
       "      <td>0.123184</td>\n",
       "    </tr>\n",
       "    <tr>\n",
       "      <th>Etiquette_GES_G</th>\n",
       "      <td>-0.028258</td>\n",
       "      <td>-0.015204</td>\n",
       "      <td>0.095719</td>\n",
       "      <td>-0.000288</td>\n",
       "      <td>0.005606</td>\n",
       "      <td>0.013705</td>\n",
       "      <td>-0.061392</td>\n",
       "      <td>-0.074952</td>\n",
       "      <td>-0.046412</td>\n",
       "      <td>-0.031476</td>\n",
       "      <td>-0.023310</td>\n",
       "      <td>1.000000</td>\n",
       "      <td>-0.046467</td>\n",
       "      <td>-0.012659</td>\n",
       "      <td>0.099197</td>\n",
       "    </tr>\n",
       "    <tr>\n",
       "      <th>Logement_neuf</th>\n",
       "      <td>-0.037859</td>\n",
       "      <td>0.052766</td>\n",
       "      <td>-0.123461</td>\n",
       "      <td>0.003953</td>\n",
       "      <td>-0.025050</td>\n",
       "      <td>0.060245</td>\n",
       "      <td>0.307021</td>\n",
       "      <td>-0.118233</td>\n",
       "      <td>-0.145890</td>\n",
       "      <td>-0.099110</td>\n",
       "      <td>-0.073405</td>\n",
       "      <td>-0.046467</td>\n",
       "      <td>1.000000</td>\n",
       "      <td>-0.005506</td>\n",
       "      <td>0.022542</td>\n",
       "    </tr>\n",
       "    <tr>\n",
       "      <th>Type_bâtiment_immeuble</th>\n",
       "      <td>0.048581</td>\n",
       "      <td>0.007345</td>\n",
       "      <td>0.539520</td>\n",
       "      <td>-0.000452</td>\n",
       "      <td>-0.015416</td>\n",
       "      <td>0.137675</td>\n",
       "      <td>-0.029052</td>\n",
       "      <td>-0.016902</td>\n",
       "      <td>0.007542</td>\n",
       "      <td>-0.009866</td>\n",
       "      <td>-0.012518</td>\n",
       "      <td>-0.012659</td>\n",
       "      <td>-0.005506</td>\n",
       "      <td>1.000000</td>\n",
       "      <td>-0.113501</td>\n",
       "    </tr>\n",
       "    <tr>\n",
       "      <th>Type_bâtiment_maison</th>\n",
       "      <td>-0.051265</td>\n",
       "      <td>-0.017295</td>\n",
       "      <td>0.093203</td>\n",
       "      <td>0.000004</td>\n",
       "      <td>0.049132</td>\n",
       "      <td>0.296451</td>\n",
       "      <td>0.126697</td>\n",
       "      <td>0.036225</td>\n",
       "      <td>-0.059671</td>\n",
       "      <td>0.064656</td>\n",
       "      <td>0.123184</td>\n",
       "      <td>0.099197</td>\n",
       "      <td>0.022542</td>\n",
       "      <td>-0.113501</td>\n",
       "      <td>1.000000</td>\n",
       "    </tr>\n",
       "  </tbody>\n",
       "</table>\n",
       "</div>"
      ],
      "text/plain": [
       "                            Année_construction  Code_postal_(brut)  \\\n",
       "Année_construction                    1.000000           -0.024801   \n",
       "Code_postal_(brut)                   -0.024801            1.000000   \n",
       "Coût_total_5_usages                   0.014375           -0.017572   \n",
       "Hauteur_sous-plafond                 -0.003631           -0.000273   \n",
       "Nombre_niveau_logement               -0.009730            0.018759   \n",
       "Surface_habitable_logement           -0.017971            0.004995   \n",
       "Etiquette_GES_A                       0.021327            0.041219   \n",
       "Etiquette_GES_B                      -0.007802           -0.007541   \n",
       "Etiquette_GES_D                       0.001245           -0.037187   \n",
       "Etiquette_GES_E                      -0.027358           -0.015397   \n",
       "Etiquette_GES_F                      -0.037204           -0.024255   \n",
       "Etiquette_GES_G                      -0.028258           -0.015204   \n",
       "Logement_neuf                        -0.037859            0.052766   \n",
       "Type_bâtiment_immeuble                0.048581            0.007345   \n",
       "Type_bâtiment_maison                 -0.051265           -0.017295   \n",
       "\n",
       "                            Coût_total_5_usages  Hauteur_sous-plafond  \\\n",
       "Année_construction                     0.014375             -0.003631   \n",
       "Code_postal_(brut)                    -0.017572             -0.000273   \n",
       "Coût_total_5_usages                    1.000000             -0.000375   \n",
       "Hauteur_sous-plafond                  -0.000375              1.000000   \n",
       "Nombre_niveau_logement                 0.010584             -0.000368   \n",
       "Surface_habitable_logement             0.220867              0.000306   \n",
       "Etiquette_GES_A                       -0.111724              0.002618   \n",
       "Etiquette_GES_B                       -0.022634             -0.002489   \n",
       "Etiquette_GES_D                        0.044798             -0.001246   \n",
       "Etiquette_GES_E                        0.078050             -0.000706   \n",
       "Etiquette_GES_F                        0.104090             -0.000507   \n",
       "Etiquette_GES_G                        0.095719             -0.000288   \n",
       "Logement_neuf                         -0.123461              0.003953   \n",
       "Type_bâtiment_immeuble                 0.539520             -0.000452   \n",
       "Type_bâtiment_maison                   0.093203              0.000004   \n",
       "\n",
       "                            Nombre_niveau_logement  \\\n",
       "Année_construction                       -0.009730   \n",
       "Code_postal_(brut)                        0.018759   \n",
       "Coût_total_5_usages                       0.010584   \n",
       "Hauteur_sous-plafond                     -0.000368   \n",
       "Nombre_niveau_logement                    1.000000   \n",
       "Surface_habitable_logement                0.030855   \n",
       "Etiquette_GES_A                          -0.016671   \n",
       "Etiquette_GES_B                           0.001833   \n",
       "Etiquette_GES_D                          -0.002609   \n",
       "Etiquette_GES_E                           0.010400   \n",
       "Etiquette_GES_F                           0.010513   \n",
       "Etiquette_GES_G                           0.005606   \n",
       "Logement_neuf                            -0.025050   \n",
       "Type_bâtiment_immeuble                   -0.015416   \n",
       "Type_bâtiment_maison                      0.049132   \n",
       "\n",
       "                            Surface_habitable_logement  Etiquette_GES_A  \\\n",
       "Année_construction                           -0.017971         0.021327   \n",
       "Code_postal_(brut)                            0.004995         0.041219   \n",
       "Coût_total_5_usages                           0.220867        -0.111724   \n",
       "Hauteur_sous-plafond                          0.000306         0.002618   \n",
       "Nombre_niveau_logement                        0.030855        -0.016671   \n",
       "Surface_habitable_logement                    1.000000         0.070285   \n",
       "Etiquette_GES_A                               0.070285         1.000000   \n",
       "Etiquette_GES_B                              -0.055916        -0.306959   \n",
       "Etiquette_GES_D                               0.010810        -0.190077   \n",
       "Etiquette_GES_E                               0.039807        -0.128907   \n",
       "Etiquette_GES_F                               0.043791        -0.095465   \n",
       "Etiquette_GES_G                               0.013705        -0.061392   \n",
       "Logement_neuf                                 0.060245         0.307021   \n",
       "Type_bâtiment_immeuble                        0.137675        -0.029052   \n",
       "Type_bâtiment_maison                          0.296451         0.126697   \n",
       "\n",
       "                            Etiquette_GES_B  Etiquette_GES_D  Etiquette_GES_E  \\\n",
       "Année_construction                -0.007802         0.001245        -0.027358   \n",
       "Code_postal_(brut)                -0.007541        -0.037187        -0.015397   \n",
       "Coût_total_5_usages               -0.022634         0.044798         0.078050   \n",
       "Hauteur_sous-plafond              -0.002489        -0.001246        -0.000706   \n",
       "Nombre_niveau_logement             0.001833        -0.002609         0.010400   \n",
       "Surface_habitable_logement        -0.055916         0.010810         0.039807   \n",
       "Etiquette_GES_A                   -0.306959        -0.190077        -0.128907   \n",
       "Etiquette_GES_B                    1.000000        -0.232061        -0.157380   \n",
       "Etiquette_GES_D                   -0.232061         1.000000        -0.097454   \n",
       "Etiquette_GES_E                   -0.157380        -0.097454         1.000000   \n",
       "Etiquette_GES_F                   -0.116551        -0.072172        -0.048945   \n",
       "Etiquette_GES_G                   -0.074952        -0.046412        -0.031476   \n",
       "Logement_neuf                     -0.118233        -0.145890        -0.099110   \n",
       "Type_bâtiment_immeuble            -0.016902         0.007542        -0.009866   \n",
       "Type_bâtiment_maison               0.036225        -0.059671         0.064656   \n",
       "\n",
       "                            Etiquette_GES_F  Etiquette_GES_G  Logement_neuf  \\\n",
       "Année_construction                -0.037204        -0.028258      -0.037859   \n",
       "Code_postal_(brut)                -0.024255        -0.015204       0.052766   \n",
       "Coût_total_5_usages                0.104090         0.095719      -0.123461   \n",
       "Hauteur_sous-plafond              -0.000507        -0.000288       0.003953   \n",
       "Nombre_niveau_logement             0.010513         0.005606      -0.025050   \n",
       "Surface_habitable_logement         0.043791         0.013705       0.060245   \n",
       "Etiquette_GES_A                   -0.095465        -0.061392       0.307021   \n",
       "Etiquette_GES_B                   -0.116551        -0.074952      -0.118233   \n",
       "Etiquette_GES_D                   -0.072172        -0.046412      -0.145890   \n",
       "Etiquette_GES_E                   -0.048945        -0.031476      -0.099110   \n",
       "Etiquette_GES_F                    1.000000        -0.023310      -0.073405   \n",
       "Etiquette_GES_G                   -0.023310         1.000000      -0.046467   \n",
       "Logement_neuf                     -0.073405        -0.046467       1.000000   \n",
       "Type_bâtiment_immeuble            -0.012518        -0.012659      -0.005506   \n",
       "Type_bâtiment_maison               0.123184         0.099197       0.022542   \n",
       "\n",
       "                            Type_bâtiment_immeuble  Type_bâtiment_maison  \n",
       "Année_construction                        0.048581             -0.051265  \n",
       "Code_postal_(brut)                        0.007345             -0.017295  \n",
       "Coût_total_5_usages                       0.539520              0.093203  \n",
       "Hauteur_sous-plafond                     -0.000452              0.000004  \n",
       "Nombre_niveau_logement                   -0.015416              0.049132  \n",
       "Surface_habitable_logement                0.137675              0.296451  \n",
       "Etiquette_GES_A                          -0.029052              0.126697  \n",
       "Etiquette_GES_B                          -0.016902              0.036225  \n",
       "Etiquette_GES_D                           0.007542             -0.059671  \n",
       "Etiquette_GES_E                          -0.009866              0.064656  \n",
       "Etiquette_GES_F                          -0.012518              0.123184  \n",
       "Etiquette_GES_G                          -0.012659              0.099197  \n",
       "Logement_neuf                            -0.005506              0.022542  \n",
       "Type_bâtiment_immeuble                    1.000000             -0.113501  \n",
       "Type_bâtiment_maison                     -0.113501              1.000000  "
      ]
     },
     "execution_count": 169,
     "metadata": {},
     "output_type": "execute_result"
    }
   ],
   "source": [
    "X_train_mca[vars].corr()"
   ]
  },
  {
   "cell_type": "code",
   "execution_count": 170,
   "metadata": {},
   "outputs": [],
   "source": [
    "from sklearn.ensemble import RandomForestClassifier\n",
    "\n",
    "rf = RandomForestClassifier(n_estimators=5, min_samples_split=5, max_depth=None, random_state=0, verbose=1)\n",
    "rf.fit(X_train_mca[vars], y_train)\n",
    "y_pred = rf.predict(X_test_mca[vars])"
   ]
  },
  {
   "cell_type": "code",
   "execution_count": 171,
   "metadata": {},
   "outputs": [
    {
     "name": "stdout",
     "output_type": "stream",
     "text": [
      "Fitting 5 folds for each of 2 candidates, totalling 10 fits\n",
      "[CV] END max_depth=20, min_samples_split=5, n_estimators=100; total time=  34.7s\n",
      "[CV] END max_depth=20, min_samples_split=5, n_estimators=100; total time=  33.6s\n",
      "[CV] END max_depth=20, min_samples_split=5, n_estimators=100; total time=  33.4s\n",
      "[CV] END max_depth=20, min_samples_split=5, n_estimators=100; total time=  34.4s\n",
      "[CV] END max_depth=20, min_samples_split=5, n_estimators=100; total time=  36.3s\n",
      "[CV] END max_depth=None, min_samples_split=5, n_estimators=100; total time=  40.0s\n",
      "[CV] END max_depth=None, min_samples_split=5, n_estimators=100; total time=  38.5s\n",
      "[CV] END max_depth=None, min_samples_split=5, n_estimators=100; total time=  39.5s\n",
      "[CV] END max_depth=None, min_samples_split=5, n_estimators=100; total time=  38.3s\n",
      "[CV] END max_depth=None, min_samples_split=5, n_estimators=100; total time=  38.5s\n"
     ]
    },
    {
     "data": {
      "text/html": [
       "<style>#sk-container-id-1 {\n",
       "  /* Definition of color scheme common for light and dark mode */\n",
       "  --sklearn-color-text: black;\n",
       "  --sklearn-color-line: gray;\n",
       "  /* Definition of color scheme for unfitted estimators */\n",
       "  --sklearn-color-unfitted-level-0: #fff5e6;\n",
       "  --sklearn-color-unfitted-level-1: #f6e4d2;\n",
       "  --sklearn-color-unfitted-level-2: #ffe0b3;\n",
       "  --sklearn-color-unfitted-level-3: chocolate;\n",
       "  /* Definition of color scheme for fitted estimators */\n",
       "  --sklearn-color-fitted-level-0: #f0f8ff;\n",
       "  --sklearn-color-fitted-level-1: #d4ebff;\n",
       "  --sklearn-color-fitted-level-2: #b3dbfd;\n",
       "  --sklearn-color-fitted-level-3: cornflowerblue;\n",
       "\n",
       "  /* Specific color for light theme */\n",
       "  --sklearn-color-text-on-default-background: var(--sg-text-color, var(--theme-code-foreground, var(--jp-content-font-color1, black)));\n",
       "  --sklearn-color-background: var(--sg-background-color, var(--theme-background, var(--jp-layout-color0, white)));\n",
       "  --sklearn-color-border-box: var(--sg-text-color, var(--theme-code-foreground, var(--jp-content-font-color1, black)));\n",
       "  --sklearn-color-icon: #696969;\n",
       "\n",
       "  @media (prefers-color-scheme: dark) {\n",
       "    /* Redefinition of color scheme for dark theme */\n",
       "    --sklearn-color-text-on-default-background: var(--sg-text-color, var(--theme-code-foreground, var(--jp-content-font-color1, white)));\n",
       "    --sklearn-color-background: var(--sg-background-color, var(--theme-background, var(--jp-layout-color0, #111)));\n",
       "    --sklearn-color-border-box: var(--sg-text-color, var(--theme-code-foreground, var(--jp-content-font-color1, white)));\n",
       "    --sklearn-color-icon: #878787;\n",
       "  }\n",
       "}\n",
       "\n",
       "#sk-container-id-1 {\n",
       "  color: var(--sklearn-color-text);\n",
       "}\n",
       "\n",
       "#sk-container-id-1 pre {\n",
       "  padding: 0;\n",
       "}\n",
       "\n",
       "#sk-container-id-1 input.sk-hidden--visually {\n",
       "  border: 0;\n",
       "  clip: rect(1px 1px 1px 1px);\n",
       "  clip: rect(1px, 1px, 1px, 1px);\n",
       "  height: 1px;\n",
       "  margin: -1px;\n",
       "  overflow: hidden;\n",
       "  padding: 0;\n",
       "  position: absolute;\n",
       "  width: 1px;\n",
       "}\n",
       "\n",
       "#sk-container-id-1 div.sk-dashed-wrapped {\n",
       "  border: 1px dashed var(--sklearn-color-line);\n",
       "  margin: 0 0.4em 0.5em 0.4em;\n",
       "  box-sizing: border-box;\n",
       "  padding-bottom: 0.4em;\n",
       "  background-color: var(--sklearn-color-background);\n",
       "}\n",
       "\n",
       "#sk-container-id-1 div.sk-container {\n",
       "  /* jupyter's `normalize.less` sets `[hidden] { display: none; }`\n",
       "     but bootstrap.min.css set `[hidden] { display: none !important; }`\n",
       "     so we also need the `!important` here to be able to override the\n",
       "     default hidden behavior on the sphinx rendered scikit-learn.org.\n",
       "     See: https://github.com/scikit-learn/scikit-learn/issues/21755 */\n",
       "  display: inline-block !important;\n",
       "  position: relative;\n",
       "}\n",
       "\n",
       "#sk-container-id-1 div.sk-text-repr-fallback {\n",
       "  display: none;\n",
       "}\n",
       "\n",
       "div.sk-parallel-item,\n",
       "div.sk-serial,\n",
       "div.sk-item {\n",
       "  /* draw centered vertical line to link estimators */\n",
       "  background-image: linear-gradient(var(--sklearn-color-text-on-default-background), var(--sklearn-color-text-on-default-background));\n",
       "  background-size: 2px 100%;\n",
       "  background-repeat: no-repeat;\n",
       "  background-position: center center;\n",
       "}\n",
       "\n",
       "/* Parallel-specific style estimator block */\n",
       "\n",
       "#sk-container-id-1 div.sk-parallel-item::after {\n",
       "  content: \"\";\n",
       "  width: 100%;\n",
       "  border-bottom: 2px solid var(--sklearn-color-text-on-default-background);\n",
       "  flex-grow: 1;\n",
       "}\n",
       "\n",
       "#sk-container-id-1 div.sk-parallel {\n",
       "  display: flex;\n",
       "  align-items: stretch;\n",
       "  justify-content: center;\n",
       "  background-color: var(--sklearn-color-background);\n",
       "  position: relative;\n",
       "}\n",
       "\n",
       "#sk-container-id-1 div.sk-parallel-item {\n",
       "  display: flex;\n",
       "  flex-direction: column;\n",
       "}\n",
       "\n",
       "#sk-container-id-1 div.sk-parallel-item:first-child::after {\n",
       "  align-self: flex-end;\n",
       "  width: 50%;\n",
       "}\n",
       "\n",
       "#sk-container-id-1 div.sk-parallel-item:last-child::after {\n",
       "  align-self: flex-start;\n",
       "  width: 50%;\n",
       "}\n",
       "\n",
       "#sk-container-id-1 div.sk-parallel-item:only-child::after {\n",
       "  width: 0;\n",
       "}\n",
       "\n",
       "/* Serial-specific style estimator block */\n",
       "\n",
       "#sk-container-id-1 div.sk-serial {\n",
       "  display: flex;\n",
       "  flex-direction: column;\n",
       "  align-items: center;\n",
       "  background-color: var(--sklearn-color-background);\n",
       "  padding-right: 1em;\n",
       "  padding-left: 1em;\n",
       "}\n",
       "\n",
       "\n",
       "/* Toggleable style: style used for estimator/Pipeline/ColumnTransformer box that is\n",
       "clickable and can be expanded/collapsed.\n",
       "- Pipeline and ColumnTransformer use this feature and define the default style\n",
       "- Estimators will overwrite some part of the style using the `sk-estimator` class\n",
       "*/\n",
       "\n",
       "/* Pipeline and ColumnTransformer style (default) */\n",
       "\n",
       "#sk-container-id-1 div.sk-toggleable {\n",
       "  /* Default theme specific background. It is overwritten whether we have a\n",
       "  specific estimator or a Pipeline/ColumnTransformer */\n",
       "  background-color: var(--sklearn-color-background);\n",
       "}\n",
       "\n",
       "/* Toggleable label */\n",
       "#sk-container-id-1 label.sk-toggleable__label {\n",
       "  cursor: pointer;\n",
       "  display: block;\n",
       "  width: 100%;\n",
       "  margin-bottom: 0;\n",
       "  padding: 0.5em;\n",
       "  box-sizing: border-box;\n",
       "  text-align: center;\n",
       "}\n",
       "\n",
       "#sk-container-id-1 label.sk-toggleable__label-arrow:before {\n",
       "  /* Arrow on the left of the label */\n",
       "  content: \"▸\";\n",
       "  float: left;\n",
       "  margin-right: 0.25em;\n",
       "  color: var(--sklearn-color-icon);\n",
       "}\n",
       "\n",
       "#sk-container-id-1 label.sk-toggleable__label-arrow:hover:before {\n",
       "  color: var(--sklearn-color-text);\n",
       "}\n",
       "\n",
       "/* Toggleable content - dropdown */\n",
       "\n",
       "#sk-container-id-1 div.sk-toggleable__content {\n",
       "  max-height: 0;\n",
       "  max-width: 0;\n",
       "  overflow: hidden;\n",
       "  text-align: left;\n",
       "  /* unfitted */\n",
       "  background-color: var(--sklearn-color-unfitted-level-0);\n",
       "}\n",
       "\n",
       "#sk-container-id-1 div.sk-toggleable__content.fitted {\n",
       "  /* fitted */\n",
       "  background-color: var(--sklearn-color-fitted-level-0);\n",
       "}\n",
       "\n",
       "#sk-container-id-1 div.sk-toggleable__content pre {\n",
       "  margin: 0.2em;\n",
       "  border-radius: 0.25em;\n",
       "  color: var(--sklearn-color-text);\n",
       "  /* unfitted */\n",
       "  background-color: var(--sklearn-color-unfitted-level-0);\n",
       "}\n",
       "\n",
       "#sk-container-id-1 div.sk-toggleable__content.fitted pre {\n",
       "  /* unfitted */\n",
       "  background-color: var(--sklearn-color-fitted-level-0);\n",
       "}\n",
       "\n",
       "#sk-container-id-1 input.sk-toggleable__control:checked~div.sk-toggleable__content {\n",
       "  /* Expand drop-down */\n",
       "  max-height: 200px;\n",
       "  max-width: 100%;\n",
       "  overflow: auto;\n",
       "}\n",
       "\n",
       "#sk-container-id-1 input.sk-toggleable__control:checked~label.sk-toggleable__label-arrow:before {\n",
       "  content: \"▾\";\n",
       "}\n",
       "\n",
       "/* Pipeline/ColumnTransformer-specific style */\n",
       "\n",
       "#sk-container-id-1 div.sk-label input.sk-toggleable__control:checked~label.sk-toggleable__label {\n",
       "  color: var(--sklearn-color-text);\n",
       "  background-color: var(--sklearn-color-unfitted-level-2);\n",
       "}\n",
       "\n",
       "#sk-container-id-1 div.sk-label.fitted input.sk-toggleable__control:checked~label.sk-toggleable__label {\n",
       "  background-color: var(--sklearn-color-fitted-level-2);\n",
       "}\n",
       "\n",
       "/* Estimator-specific style */\n",
       "\n",
       "/* Colorize estimator box */\n",
       "#sk-container-id-1 div.sk-estimator input.sk-toggleable__control:checked~label.sk-toggleable__label {\n",
       "  /* unfitted */\n",
       "  background-color: var(--sklearn-color-unfitted-level-2);\n",
       "}\n",
       "\n",
       "#sk-container-id-1 div.sk-estimator.fitted input.sk-toggleable__control:checked~label.sk-toggleable__label {\n",
       "  /* fitted */\n",
       "  background-color: var(--sklearn-color-fitted-level-2);\n",
       "}\n",
       "\n",
       "#sk-container-id-1 div.sk-label label.sk-toggleable__label,\n",
       "#sk-container-id-1 div.sk-label label {\n",
       "  /* The background is the default theme color */\n",
       "  color: var(--sklearn-color-text-on-default-background);\n",
       "}\n",
       "\n",
       "/* On hover, darken the color of the background */\n",
       "#sk-container-id-1 div.sk-label:hover label.sk-toggleable__label {\n",
       "  color: var(--sklearn-color-text);\n",
       "  background-color: var(--sklearn-color-unfitted-level-2);\n",
       "}\n",
       "\n",
       "/* Label box, darken color on hover, fitted */\n",
       "#sk-container-id-1 div.sk-label.fitted:hover label.sk-toggleable__label.fitted {\n",
       "  color: var(--sklearn-color-text);\n",
       "  background-color: var(--sklearn-color-fitted-level-2);\n",
       "}\n",
       "\n",
       "/* Estimator label */\n",
       "\n",
       "#sk-container-id-1 div.sk-label label {\n",
       "  font-family: monospace;\n",
       "  font-weight: bold;\n",
       "  display: inline-block;\n",
       "  line-height: 1.2em;\n",
       "}\n",
       "\n",
       "#sk-container-id-1 div.sk-label-container {\n",
       "  text-align: center;\n",
       "}\n",
       "\n",
       "/* Estimator-specific */\n",
       "#sk-container-id-1 div.sk-estimator {\n",
       "  font-family: monospace;\n",
       "  border: 1px dotted var(--sklearn-color-border-box);\n",
       "  border-radius: 0.25em;\n",
       "  box-sizing: border-box;\n",
       "  margin-bottom: 0.5em;\n",
       "  /* unfitted */\n",
       "  background-color: var(--sklearn-color-unfitted-level-0);\n",
       "}\n",
       "\n",
       "#sk-container-id-1 div.sk-estimator.fitted {\n",
       "  /* fitted */\n",
       "  background-color: var(--sklearn-color-fitted-level-0);\n",
       "}\n",
       "\n",
       "/* on hover */\n",
       "#sk-container-id-1 div.sk-estimator:hover {\n",
       "  /* unfitted */\n",
       "  background-color: var(--sklearn-color-unfitted-level-2);\n",
       "}\n",
       "\n",
       "#sk-container-id-1 div.sk-estimator.fitted:hover {\n",
       "  /* fitted */\n",
       "  background-color: var(--sklearn-color-fitted-level-2);\n",
       "}\n",
       "\n",
       "/* Specification for estimator info (e.g. \"i\" and \"?\") */\n",
       "\n",
       "/* Common style for \"i\" and \"?\" */\n",
       "\n",
       ".sk-estimator-doc-link,\n",
       "a:link.sk-estimator-doc-link,\n",
       "a:visited.sk-estimator-doc-link {\n",
       "  float: right;\n",
       "  font-size: smaller;\n",
       "  line-height: 1em;\n",
       "  font-family: monospace;\n",
       "  background-color: var(--sklearn-color-background);\n",
       "  border-radius: 1em;\n",
       "  height: 1em;\n",
       "  width: 1em;\n",
       "  text-decoration: none !important;\n",
       "  margin-left: 1ex;\n",
       "  /* unfitted */\n",
       "  border: var(--sklearn-color-unfitted-level-1) 1pt solid;\n",
       "  color: var(--sklearn-color-unfitted-level-1);\n",
       "}\n",
       "\n",
       ".sk-estimator-doc-link.fitted,\n",
       "a:link.sk-estimator-doc-link.fitted,\n",
       "a:visited.sk-estimator-doc-link.fitted {\n",
       "  /* fitted */\n",
       "  border: var(--sklearn-color-fitted-level-1) 1pt solid;\n",
       "  color: var(--sklearn-color-fitted-level-1);\n",
       "}\n",
       "\n",
       "/* On hover */\n",
       "div.sk-estimator:hover .sk-estimator-doc-link:hover,\n",
       ".sk-estimator-doc-link:hover,\n",
       "div.sk-label-container:hover .sk-estimator-doc-link:hover,\n",
       ".sk-estimator-doc-link:hover {\n",
       "  /* unfitted */\n",
       "  background-color: var(--sklearn-color-unfitted-level-3);\n",
       "  color: var(--sklearn-color-background);\n",
       "  text-decoration: none;\n",
       "}\n",
       "\n",
       "div.sk-estimator.fitted:hover .sk-estimator-doc-link.fitted:hover,\n",
       ".sk-estimator-doc-link.fitted:hover,\n",
       "div.sk-label-container:hover .sk-estimator-doc-link.fitted:hover,\n",
       ".sk-estimator-doc-link.fitted:hover {\n",
       "  /* fitted */\n",
       "  background-color: var(--sklearn-color-fitted-level-3);\n",
       "  color: var(--sklearn-color-background);\n",
       "  text-decoration: none;\n",
       "}\n",
       "\n",
       "/* Span, style for the box shown on hovering the info icon */\n",
       ".sk-estimator-doc-link span {\n",
       "  display: none;\n",
       "  z-index: 9999;\n",
       "  position: relative;\n",
       "  font-weight: normal;\n",
       "  right: .2ex;\n",
       "  padding: .5ex;\n",
       "  margin: .5ex;\n",
       "  width: min-content;\n",
       "  min-width: 20ex;\n",
       "  max-width: 50ex;\n",
       "  color: var(--sklearn-color-text);\n",
       "  box-shadow: 2pt 2pt 4pt #999;\n",
       "  /* unfitted */\n",
       "  background: var(--sklearn-color-unfitted-level-0);\n",
       "  border: .5pt solid var(--sklearn-color-unfitted-level-3);\n",
       "}\n",
       "\n",
       ".sk-estimator-doc-link.fitted span {\n",
       "  /* fitted */\n",
       "  background: var(--sklearn-color-fitted-level-0);\n",
       "  border: var(--sklearn-color-fitted-level-3);\n",
       "}\n",
       "\n",
       ".sk-estimator-doc-link:hover span {\n",
       "  display: block;\n",
       "}\n",
       "\n",
       "/* \"?\"-specific style due to the `<a>` HTML tag */\n",
       "\n",
       "#sk-container-id-1 a.estimator_doc_link {\n",
       "  float: right;\n",
       "  font-size: 1rem;\n",
       "  line-height: 1em;\n",
       "  font-family: monospace;\n",
       "  background-color: var(--sklearn-color-background);\n",
       "  border-radius: 1rem;\n",
       "  height: 1rem;\n",
       "  width: 1rem;\n",
       "  text-decoration: none;\n",
       "  /* unfitted */\n",
       "  color: var(--sklearn-color-unfitted-level-1);\n",
       "  border: var(--sklearn-color-unfitted-level-1) 1pt solid;\n",
       "}\n",
       "\n",
       "#sk-container-id-1 a.estimator_doc_link.fitted {\n",
       "  /* fitted */\n",
       "  border: var(--sklearn-color-fitted-level-1) 1pt solid;\n",
       "  color: var(--sklearn-color-fitted-level-1);\n",
       "}\n",
       "\n",
       "/* On hover */\n",
       "#sk-container-id-1 a.estimator_doc_link:hover {\n",
       "  /* unfitted */\n",
       "  background-color: var(--sklearn-color-unfitted-level-3);\n",
       "  color: var(--sklearn-color-background);\n",
       "  text-decoration: none;\n",
       "}\n",
       "\n",
       "#sk-container-id-1 a.estimator_doc_link.fitted:hover {\n",
       "  /* fitted */\n",
       "  background-color: var(--sklearn-color-fitted-level-3);\n",
       "}\n",
       "</style><div id=\"sk-container-id-1\" class=\"sk-top-container\"><div class=\"sk-text-repr-fallback\"><pre>GridSearchCV(cv=StratifiedKFold(n_splits=5, random_state=None, shuffle=False),\n",
       "             estimator=RandomForestClassifier(),\n",
       "             param_grid={&#x27;max_depth&#x27;: [20, None], &#x27;min_samples_split&#x27;: [5],\n",
       "                         &#x27;n_estimators&#x27;: [100]},\n",
       "             scoring=&#x27;accuracy&#x27;, verbose=2)</pre><b>In a Jupyter environment, please rerun this cell to show the HTML representation or trust the notebook. <br />On GitHub, the HTML representation is unable to render, please try loading this page with nbviewer.org.</b></div><div class=\"sk-container\" hidden><div class=\"sk-item sk-dashed-wrapped\"><div class=\"sk-label-container\"><div class=\"sk-label fitted sk-toggleable\"><input class=\"sk-toggleable__control sk-hidden--visually\" id=\"sk-estimator-id-1\" type=\"checkbox\" ><label for=\"sk-estimator-id-1\" class=\"sk-toggleable__label fitted sk-toggleable__label-arrow fitted\">&nbsp;&nbsp;GridSearchCV<a class=\"sk-estimator-doc-link fitted\" rel=\"noreferrer\" target=\"_blank\" href=\"https://scikit-learn.org/1.5/modules/generated/sklearn.model_selection.GridSearchCV.html\">?<span>Documentation for GridSearchCV</span></a><span class=\"sk-estimator-doc-link fitted\">i<span>Fitted</span></span></label><div class=\"sk-toggleable__content fitted\"><pre>GridSearchCV(cv=StratifiedKFold(n_splits=5, random_state=None, shuffle=False),\n",
       "             estimator=RandomForestClassifier(),\n",
       "             param_grid={&#x27;max_depth&#x27;: [20, None], &#x27;min_samples_split&#x27;: [5],\n",
       "                         &#x27;n_estimators&#x27;: [100]},\n",
       "             scoring=&#x27;accuracy&#x27;, verbose=2)</pre></div> </div></div><div class=\"sk-parallel\"><div class=\"sk-parallel-item\"><div class=\"sk-item\"><div class=\"sk-label-container\"><div class=\"sk-label fitted sk-toggleable\"><input class=\"sk-toggleable__control sk-hidden--visually\" id=\"sk-estimator-id-2\" type=\"checkbox\" ><label for=\"sk-estimator-id-2\" class=\"sk-toggleable__label fitted sk-toggleable__label-arrow fitted\">best_estimator_: RandomForestClassifier</label><div class=\"sk-toggleable__content fitted\"><pre>RandomForestClassifier(min_samples_split=5)</pre></div> </div></div><div class=\"sk-serial\"><div class=\"sk-item\"><div class=\"sk-estimator fitted sk-toggleable\"><input class=\"sk-toggleable__control sk-hidden--visually\" id=\"sk-estimator-id-3\" type=\"checkbox\" ><label for=\"sk-estimator-id-3\" class=\"sk-toggleable__label fitted sk-toggleable__label-arrow fitted\">&nbsp;RandomForestClassifier<a class=\"sk-estimator-doc-link fitted\" rel=\"noreferrer\" target=\"_blank\" href=\"https://scikit-learn.org/1.5/modules/generated/sklearn.ensemble.RandomForestClassifier.html\">?<span>Documentation for RandomForestClassifier</span></a></label><div class=\"sk-toggleable__content fitted\"><pre>RandomForestClassifier(min_samples_split=5)</pre></div> </div></div></div></div></div></div></div></div></div>"
      ],
      "text/plain": [
       "GridSearchCV(cv=StratifiedKFold(n_splits=5, random_state=None, shuffle=False),\n",
       "             estimator=RandomForestClassifier(),\n",
       "             param_grid={'max_depth': [20, None], 'min_samples_split': [5],\n",
       "                         'n_estimators': [100]},\n",
       "             scoring='accuracy', verbose=2)"
      ]
     },
     "execution_count": 171,
     "metadata": {},
     "output_type": "execute_result"
    }
   ],
   "source": [
    "from sklearn.ensemble import RandomForestClassifier\n",
    "from sklearn.model_selection import GridSearchCV, StratifiedKFold\n",
    "\n",
    "rf = RandomForestClassifier()\n",
    "cv = StratifiedKFold(5)\n",
    "params = {'n_estimators': [100],\n",
    "          'min_samples_split': [5],\n",
    "          'max_depth': [20, None]}\n",
    "grid = GridSearchCV(rf, param_grid=params, scoring=\"accuracy\", cv=cv, verbose=2)\n",
    "grid.fit(X_train_mca[vars], y_train)"
   ]
  },
  {
   "cell_type": "code",
   "execution_count": 172,
   "metadata": {},
   "outputs": [
    {
     "name": "stdout",
     "output_type": "stream",
     "text": [
      "              precision    recall  f1-score   support\n",
      "\n",
      "           A       0.95      0.96      0.95      8402\n",
      "           B       0.90      0.87      0.89      7973\n",
      "           C       0.94      0.97      0.95     41301\n",
      "           D       0.89      0.89      0.89     38342\n",
      "           E       0.87      0.86      0.86     24184\n",
      "           F       0.83      0.81      0.82     10051\n",
      "           G       0.88      0.80      0.84      6946\n",
      "\n",
      "    accuracy                           0.90    137199\n",
      "   macro avg       0.89      0.88      0.89    137199\n",
      "weighted avg       0.90      0.90      0.90    137199\n",
      "\n"
     ]
    }
   ],
   "source": [
    "# Quali OHE\n",
    "from sklearn.metrics import classification_report\n",
    "\n",
    "print(classification_report(y_test, y_pred))"
   ]
  },
  {
   "cell_type": "code",
   "execution_count": 173,
   "metadata": {},
   "outputs": [
    {
     "name": "stdout",
     "output_type": "stream",
     "text": [
      "              precision    recall  f1-score   support\n",
      "\n",
      "           A       0.95      0.96      0.95      8402\n",
      "           B       0.90      0.87      0.89      7973\n",
      "           C       0.94      0.97      0.95     41301\n",
      "           D       0.89      0.89      0.89     38342\n",
      "           E       0.87      0.86      0.86     24184\n",
      "           F       0.83      0.81      0.82     10051\n",
      "           G       0.88      0.80      0.84      6946\n",
      "\n",
      "    accuracy                           0.90    137199\n",
      "   macro avg       0.89      0.88      0.89    137199\n",
      "weighted avg       0.90      0.90      0.90    137199\n",
      "\n"
     ]
    }
   ],
   "source": [
    "# Sans quali OHE\n",
    "from sklearn.metrics import classification_report\n",
    "\n",
    "print(classification_report(y_test, y_pred))"
   ]
  },
  {
   "cell_type": "code",
   "execution_count": 174,
   "metadata": {},
   "outputs": [
    {
     "name": "stdout",
     "output_type": "stream",
     "text": [
      "              precision    recall  f1-score   support\n",
      "\n",
      "           A       0.95      0.96      0.95      8402\n",
      "           B       0.90      0.87      0.89      7973\n",
      "           C       0.94      0.97      0.95     41301\n",
      "           D       0.89      0.89      0.89     38342\n",
      "           E       0.87      0.86      0.86     24184\n",
      "           F       0.83      0.81      0.82     10051\n",
      "           G       0.88      0.80      0.84      6946\n",
      "\n",
      "    accuracy                           0.90    137199\n",
      "   macro avg       0.89      0.88      0.89    137199\n",
      "weighted avg       0.90      0.90      0.90    137199\n",
      "\n"
     ]
    }
   ],
   "source": [
    "# Emission_GES_ECS\n",
    "from sklearn.metrics import classification_report\n",
    "\n",
    "print(classification_report(y_test, y_pred))"
   ]
  },
  {
   "cell_type": "code",
   "execution_count": 175,
   "metadata": {},
   "outputs": [
    {
     "name": "stdout",
     "output_type": "stream",
     "text": [
      "              precision    recall  f1-score   support\n",
      "\n",
      "           A       0.95      0.96      0.95      8402\n",
      "           B       0.90      0.87      0.89      7973\n",
      "           C       0.94      0.97      0.95     41301\n",
      "           D       0.89      0.89      0.89     38342\n",
      "           E       0.87      0.86      0.86     24184\n",
      "           F       0.83      0.81      0.82     10051\n",
      "           G       0.88      0.80      0.84      6946\n",
      "\n",
      "    accuracy                           0.90    137199\n",
      "   macro avg       0.89      0.88      0.89    137199\n",
      "weighted avg       0.90      0.90      0.90    137199\n",
      "\n"
     ]
    }
   ],
   "source": [
    "# Etiquettes GES A + G\n",
    "from sklearn.metrics import classification_report\n",
    "\n",
    "print(classification_report(y_test, y_pred))"
   ]
  },
  {
   "cell_type": "code",
   "execution_count": 176,
   "metadata": {},
   "outputs": [
    {
     "name": "stdout",
     "output_type": "stream",
     "text": [
      "              precision    recall  f1-score   support\n",
      "\n",
      "           A       0.95      0.96      0.95      8402\n",
      "           B       0.90      0.87      0.89      7973\n",
      "           C       0.94      0.97      0.95     41301\n",
      "           D       0.89      0.89      0.89     38342\n",
      "           E       0.87      0.86      0.86     24184\n",
      "           F       0.83      0.81      0.82     10051\n",
      "           G       0.88      0.80      0.84      6946\n",
      "\n",
      "    accuracy                           0.90    137199\n",
      "   macro avg       0.89      0.88      0.89    137199\n",
      "weighted avg       0.90      0.90      0.90    137199\n",
      "\n"
     ]
    }
   ],
   "source": [
    "# Etiquettes GES A - G\n",
    "from sklearn.metrics import classification_report\n",
    "\n",
    "print(classification_report(y_test, y_pred))"
   ]
  },
  {
   "cell_type": "code",
   "execution_count": 177,
   "metadata": {},
   "outputs": [
    {
     "name": "stdout",
     "output_type": "stream",
     "text": [
      "              precision    recall  f1-score   support\n",
      "\n",
      "           A       0.95      0.96      0.95      8402\n",
      "           B       0.90      0.87      0.89      7973\n",
      "           C       0.94      0.97      0.95     41301\n",
      "           D       0.89      0.89      0.89     38342\n",
      "           E       0.87      0.86      0.86     24184\n",
      "           F       0.83      0.81      0.82     10051\n",
      "           G       0.88      0.80      0.84      6946\n",
      "\n",
      "    accuracy                           0.90    137199\n",
      "   macro avg       0.89      0.88      0.89    137199\n",
      "weighted avg       0.90      0.90      0.90    137199\n",
      "\n"
     ]
    }
   ],
   "source": [
    "# 50 arbres\n",
    "from sklearn.metrics import classification_report\n",
    "\n",
    "print(classification_report(y_test, y_pred))"
   ]
  },
  {
   "cell_type": "code",
   "execution_count": 178,
   "metadata": {},
   "outputs": [
    {
     "name": "stdout",
     "output_type": "stream",
     "text": [
      "              precision    recall  f1-score   support\n",
      "\n",
      "           A       0.95      0.96      0.95      8402\n",
      "           B       0.90      0.87      0.89      7973\n",
      "           C       0.94      0.97      0.95     41301\n",
      "           D       0.89      0.89      0.89     38342\n",
      "           E       0.87      0.86      0.86     24184\n",
      "           F       0.83      0.81      0.82     10051\n",
      "           G       0.88      0.80      0.84      6946\n",
      "\n",
      "    accuracy                           0.90    137199\n",
      "   macro avg       0.89      0.88      0.89    137199\n",
      "weighted avg       0.90      0.90      0.90    137199\n",
      "\n"
     ]
    }
   ],
   "source": [
    "# 10 arbres\n",
    "from sklearn.metrics import classification_report\n",
    "\n",
    "print(classification_report(y_test, y_pred))"
   ]
  },
  {
   "cell_type": "code",
   "execution_count": 179,
   "metadata": {},
   "outputs": [
    {
     "name": "stdout",
     "output_type": "stream",
     "text": [
      "              precision    recall  f1-score   support\n",
      "\n",
      "           A       0.95      0.96      0.95      8402\n",
      "           B       0.90      0.87      0.89      7973\n",
      "           C       0.94      0.97      0.95     41301\n",
      "           D       0.89      0.89      0.89     38342\n",
      "           E       0.87      0.86      0.86     24184\n",
      "           F       0.83      0.81      0.82     10051\n",
      "           G       0.88      0.80      0.84      6946\n",
      "\n",
      "    accuracy                           0.90    137199\n",
      "   macro avg       0.89      0.88      0.89    137199\n",
      "weighted avg       0.90      0.90      0.90    137199\n",
      "\n"
     ]
    }
   ],
   "source": [
    "# 5 arbres\n",
    "from sklearn.metrics import classification_report\n",
    "\n",
    "print(classification_report(y_test, y_pred))"
   ]
  },
  {
   "cell_type": "code",
   "execution_count": 180,
   "metadata": {},
   "outputs": [
    {
     "ename": "AttributeError",
     "evalue": "'RandomForestClassifier' object has no attribute 'feature_names_in_'",
     "output_type": "error",
     "traceback": [
      "\u001b[1;31m---------------------------------------------------------------------------\u001b[0m",
      "\u001b[1;31mAttributeError\u001b[0m                            Traceback (most recent call last)",
      "Cell \u001b[1;32mIn[180], line 5\u001b[0m\n\u001b[0;32m      2\u001b[0m \u001b[38;5;28;01mimport\u001b[39;00m \u001b[38;5;21;01mmatplotlib\u001b[39;00m\u001b[38;5;21;01m.\u001b[39;00m\u001b[38;5;21;01mpyplot\u001b[39;00m \u001b[38;5;28;01mas\u001b[39;00m \u001b[38;5;21;01mplt\u001b[39;00m\n\u001b[0;32m      3\u001b[0m plt\u001b[38;5;241m.\u001b[39mfigure(figsize\u001b[38;5;241m=\u001b[39m(\u001b[38;5;241m8\u001b[39m,\u001b[38;5;241m8\u001b[39m))\n\u001b[1;32m----> 5\u001b[0m feature_names \u001b[38;5;241m=\u001b[39m \u001b[43mrf\u001b[49m\u001b[38;5;241;43m.\u001b[39;49m\u001b[43mfeature_names_in_\u001b[49m\n\u001b[0;32m      7\u001b[0m mdi_importances \u001b[38;5;241m=\u001b[39m pd\u001b[38;5;241m.\u001b[39mSeries(\n\u001b[0;32m      8\u001b[0m     rf\u001b[38;5;241m.\u001b[39mfeature_importances_, index\u001b[38;5;241m=\u001b[39mfeature_names\n\u001b[0;32m      9\u001b[0m )\u001b[38;5;241m.\u001b[39msort_values(ascending\u001b[38;5;241m=\u001b[39m\u001b[38;5;28;01mTrue\u001b[39;00m)\n\u001b[0;32m     11\u001b[0m ax \u001b[38;5;241m=\u001b[39m mdi_importances\u001b[38;5;241m.\u001b[39mplot\u001b[38;5;241m.\u001b[39mbarh()\n",
      "\u001b[1;31mAttributeError\u001b[0m: 'RandomForestClassifier' object has no attribute 'feature_names_in_'"
     ]
    },
    {
     "data": {
      "text/plain": [
       "<Figure size 800x800 with 0 Axes>"
      ]
     },
     "metadata": {},
     "output_type": "display_data"
    }
   ],
   "source": [
    "import pandas as pd\n",
    "import matplotlib.pyplot as plt\n",
    "plt.figure(figsize=(8,8))\n",
    "\n",
    "feature_names = rf.feature_names_in_\n",
    "\n",
    "mdi_importances = pd.Series(\n",
    "    rf.feature_importances_, index=feature_names\n",
    ").sort_values(ascending=True)\n",
    "\n",
    "ax = mdi_importances.plot.barh()\n",
    "ax.set_title(\"Random Forest Feature Importances (MDI)\")\n",
    "ax.figure.tight_layout()"
   ]
  },
  {
   "cell_type": "code",
   "execution_count": null,
   "metadata": {},
   "outputs": [],
   "source": [
    "import pickle as pk\n",
    "\n",
    "pk.dump(rf, open(os.path.join(\"models\",\"rf_tuned_classification.pkl\"), \"wb\"))"
   ]
  },
  {
   "cell_type": "code",
   "execution_count": null,
   "metadata": {},
   "outputs": [],
   "source": [
    "import pickle as pk\n",
    "import os\n",
    "with open(os.path.join(\"models\",\"rf_tuned_classification.pkl\"), \"rb\") as file:\n",
    "    rf = pk.load(file)\n",
    "file.close()"
   ]
  },
  {
   "cell_type": "code",
   "execution_count": null,
   "metadata": {},
   "outputs": [],
   "source": [
    "rf.feature_names_in_"
   ]
  },
  {
   "cell_type": "code",
   "execution_count": null,
   "metadata": {},
   "outputs": [],
   "source": [
    "import pandas as pd\n",
    "from pipeline import Pipeline\n",
    "\n",
    "new = pd.DataFrame([{\"Année_construction\":2024,\n",
    "                     \"Surface_habitable_logement\":200,\n",
    "                     \"Coût_total_5_usages\":10000,\n",
    "                     \"Etiquette_GES\":\"C\",\n",
    "                     \"Code_postal_(brut)\":35660,\n",
    "                     \"Logement\":\"neuf\",\n",
    "                     \"Type_bâtiment\":\"maison\",\n",
    "                     \"Hauteur_sous-plafond\":3,\n",
    "                     \"Nombre_niveau_logement\":2\n",
    "                     }])\n",
    "\n",
    "Pipeline(new)"
   ]
  },
  {
   "cell_type": "code",
   "execution_count": null,
   "metadata": {},
   "outputs": [],
   "source": [
    "new"
   ]
  },
  {
   "cell_type": "markdown",
   "metadata": {},
   "source": [
    "# Regression"
   ]
  },
  {
   "cell_type": "code",
   "execution_count": 181,
   "metadata": {},
   "outputs": [
    {
     "name": "stderr",
     "output_type": "stream",
     "text": [
      "C:\\Users\\Evidya\\AppData\\Local\\Temp\\ipykernel_12184\\1169846585.py:2: DtypeWarning: Columns (80,100,111,112,132,133) have mixed types. Specify dtype option on import or set low_memory=False.\n",
      "  logements_neufs = pd.read_csv(os.path.join('data','raw','neufs.csv'))\n",
      "C:\\Users\\Evidya\\AppData\\Local\\Temp\\ipykernel_12184\\1169846585.py:3: DtypeWarning: Columns (159,191,202,208,214,215,218,219,220,221,228,232) have mixed types. Specify dtype option on import or set low_memory=False.\n",
      "  logements_existants = pd.read_csv(os.path.join('data','raw','existents.csv'))\n"
     ]
    }
   ],
   "source": [
    "# Importation des données\n",
    "logements_neufs = pd.read_csv(os.path.join('data','raw','neufs.csv'))\n",
    "logements_existants = pd.read_csv(os.path.join('data','raw','existents.csv'))"
   ]
  },
  {
   "cell_type": "code",
   "execution_count": 182,
   "metadata": {},
   "outputs": [],
   "source": [
    "# Pour les anciens\n",
    "logements_neufs[\"Date_réception_DPE\"] = pd.to_datetime(logements_neufs[\"Date_réception_DPE\"], errors='coerce')\n",
    "logements_neufs[\"Année_construction\"] = logements_neufs[\"Date_réception_DPE\"].apply(lambda x : x.year)\n",
    "\n",
    "\n",
    "# Pour les neufs (et les futures données qui seront produites)\n",
    "logements_neufs = create_vars(logements_neufs)"
   ]
  },
  {
   "cell_type": "code",
   "execution_count": 183,
   "metadata": {},
   "outputs": [],
   "source": [
    "import numpy as np\n",
    "\n",
    "distribution = logements_existants['Année_construction'].value_counts(normalize=True)\n",
    "\n",
    "# Remplacer les valeurs manquantes en tirant aléatoirement basé sur la distribution\n",
    "logements_existants['Année_construction'] = logements_existants['Année_construction'].apply(\n",
    "    lambda x: np.random.choice(distribution.index, p=distribution.values) if pd.isnull(x) else x\n",
    ")"
   ]
  },
  {
   "cell_type": "code",
   "execution_count": 184,
   "metadata": {},
   "outputs": [],
   "source": [
    "df_reg = pd.concat([logements_existants, logements_neufs], ignore_index=True, axis=0)"
   ]
  },
  {
   "cell_type": "code",
   "execution_count": 185,
   "metadata": {},
   "outputs": [],
   "source": [
    "target = \"Coût_total_5_usages\"\n",
    "\n",
    "selected_vars = ['Année_construction','Surface_habitable_logement','Type_énergie_n°1',\n",
    "'Etiquette_DPE',\n",
    "'N°_étage_appartement', 'Hauteur_sous-plafond',\n",
    "'Logement_traversant_(0/1)',\n",
    "'Présence_brasseur_air_(0/1)',\n",
    "'Indicateur_confort_été',\n",
    "'Isolation_toiture_(0/1)',\n",
    "'Protection_solaire_exterieure_(0/1)',\n",
    "'Inertie_lourde_(0/1)',\n",
    "'Deperditions_baies_vitrées',\n",
    "'Deperditions_enveloppe',\n",
    "'Déperditions_murs',\n",
    "'Deperditions_planchers_bas',\n",
    "'Deperditions_planchers_hauts',\n",
    "'Déperditions_ponts_thermiques',\n",
    "'Déperditions_portes',\n",
    "'Déperditions_renouvellement_air',\n",
    "'Qualité_isolation_enveloppe',\n",
    "'Qualité_isolation_menuiseries',\n",
    "'Qualité_isolation_murs',\n",
    "'Qualité_isolation_plancher_bas']\n",
    "\n",
    "df_reg = df_reg[selected_vars + [target]]"
   ]
  },
  {
   "cell_type": "code",
   "execution_count": 186,
   "metadata": {},
   "outputs": [],
   "source": [
    "X_train, X_test = data_split(df_reg, target=target, test_size=0.3, stratify=False, seed=0)"
   ]
  },
  {
   "cell_type": "code",
   "execution_count": 187,
   "metadata": {},
   "outputs": [
    {
     "name": "stderr",
     "output_type": "stream",
     "text": [
      "C:\\Users\\Evidya\\AppData\\Local\\Temp\\ipykernel_12184\\1909092107.py:27: FutureWarning: Downcasting object dtype arrays on .fillna, .ffill, .bfill is deprecated and will change in a future version. Call result.infer_objects(copy=False) instead. To opt-in to the future behavior, set `pd.set_option('future.no_silent_downcasting', True)`\n",
      "  original_data[column] = original_data[column].fillna(filling)\n",
      "C:\\Users\\Evidya\\AppData\\Local\\Temp\\ipykernel_12184\\1909092107.py:29: FutureWarning: Downcasting object dtype arrays on .fillna, .ffill, .bfill is deprecated and will change in a future version. Call result.infer_objects(copy=False) instead. To opt-in to the future behavior, set `pd.set_option('future.no_silent_downcasting', True)`\n",
      "  quali_data_new[column] = quali_data_new[column].fillna(filling)\n",
      "C:\\Users\\Evidya\\AppData\\Local\\Temp\\ipykernel_12184\\1909092107.py:27: FutureWarning: Downcasting object dtype arrays on .fillna, .ffill, .bfill is deprecated and will change in a future version. Call result.infer_objects(copy=False) instead. To opt-in to the future behavior, set `pd.set_option('future.no_silent_downcasting', True)`\n",
      "  original_data[column] = original_data[column].fillna(filling)\n",
      "C:\\Users\\Evidya\\AppData\\Local\\Temp\\ipykernel_12184\\1909092107.py:29: FutureWarning: Downcasting object dtype arrays on .fillna, .ffill, .bfill is deprecated and will change in a future version. Call result.infer_objects(copy=False) instead. To opt-in to the future behavior, set `pd.set_option('future.no_silent_downcasting', True)`\n",
      "  quali_data_new[column] = quali_data_new[column].fillna(filling)\n",
      "C:\\Users\\Evidya\\AppData\\Local\\Temp\\ipykernel_12184\\1909092107.py:27: FutureWarning: Downcasting object dtype arrays on .fillna, .ffill, .bfill is deprecated and will change in a future version. Call result.infer_objects(copy=False) instead. To opt-in to the future behavior, set `pd.set_option('future.no_silent_downcasting', True)`\n",
      "  original_data[column] = original_data[column].fillna(filling)\n",
      "C:\\Users\\Evidya\\AppData\\Local\\Temp\\ipykernel_12184\\1909092107.py:29: FutureWarning: Downcasting object dtype arrays on .fillna, .ffill, .bfill is deprecated and will change in a future version. Call result.infer_objects(copy=False) instead. To opt-in to the future behavior, set `pd.set_option('future.no_silent_downcasting', True)`\n",
      "  quali_data_new[column] = quali_data_new[column].fillna(filling)\n",
      "C:\\Users\\Evidya\\AppData\\Local\\Temp\\ipykernel_12184\\1909092107.py:27: FutureWarning: Downcasting object dtype arrays on .fillna, .ffill, .bfill is deprecated and will change in a future version. Call result.infer_objects(copy=False) instead. To opt-in to the future behavior, set `pd.set_option('future.no_silent_downcasting', True)`\n",
      "  original_data[column] = original_data[column].fillna(filling)\n",
      "C:\\Users\\Evidya\\AppData\\Local\\Temp\\ipykernel_12184\\1909092107.py:29: FutureWarning: Downcasting object dtype arrays on .fillna, .ffill, .bfill is deprecated and will change in a future version. Call result.infer_objects(copy=False) instead. To opt-in to the future behavior, set `pd.set_option('future.no_silent_downcasting', True)`\n",
      "  quali_data_new[column] = quali_data_new[column].fillna(filling)\n",
      "C:\\Users\\Evidya\\AppData\\Local\\Temp\\ipykernel_12184\\1909092107.py:27: FutureWarning: Downcasting object dtype arrays on .fillna, .ffill, .bfill is deprecated and will change in a future version. Call result.infer_objects(copy=False) instead. To opt-in to the future behavior, set `pd.set_option('future.no_silent_downcasting', True)`\n",
      "  original_data[column] = original_data[column].fillna(filling)\n",
      "C:\\Users\\Evidya\\AppData\\Local\\Temp\\ipykernel_12184\\1909092107.py:29: FutureWarning: Downcasting object dtype arrays on .fillna, .ffill, .bfill is deprecated and will change in a future version. Call result.infer_objects(copy=False) instead. To opt-in to the future behavior, set `pd.set_option('future.no_silent_downcasting', True)`\n",
      "  quali_data_new[column] = quali_data_new[column].fillna(filling)\n"
     ]
    }
   ],
   "source": [
    "orig, new = quali_quanti_preprocessing(X_train, X_test, \"median_imputer_reg.pkl\")"
   ]
  },
  {
   "cell_type": "code",
   "execution_count": 188,
   "metadata": {},
   "outputs": [],
   "source": [
    "X_train, X_test, y_train, y_test = define_target(orig, new, target=target)"
   ]
  },
  {
   "cell_type": "code",
   "execution_count": 189,
   "metadata": {},
   "outputs": [],
   "source": [
    "quali_train, quali_test, quanti_train, quanti_test = split_type(X_train, X_test, to_drop=[])"
   ]
  },
  {
   "cell_type": "code",
   "execution_count": 190,
   "metadata": {},
   "outputs": [],
   "source": [
    "X_train, X_test = data_split(df_reg, target=target, test_size=0.3, stratify=False, seed=0)"
   ]
  },
  {
   "cell_type": "code",
   "execution_count": 191,
   "metadata": {},
   "outputs": [
    {
     "name": "stderr",
     "output_type": "stream",
     "text": [
      "C:\\Users\\Evidya\\AppData\\Local\\Temp\\ipykernel_12184\\1909092107.py:27: FutureWarning: Downcasting object dtype arrays on .fillna, .ffill, .bfill is deprecated and will change in a future version. Call result.infer_objects(copy=False) instead. To opt-in to the future behavior, set `pd.set_option('future.no_silent_downcasting', True)`\n",
      "  original_data[column] = original_data[column].fillna(filling)\n",
      "C:\\Users\\Evidya\\AppData\\Local\\Temp\\ipykernel_12184\\1909092107.py:29: FutureWarning: Downcasting object dtype arrays on .fillna, .ffill, .bfill is deprecated and will change in a future version. Call result.infer_objects(copy=False) instead. To opt-in to the future behavior, set `pd.set_option('future.no_silent_downcasting', True)`\n",
      "  quali_data_new[column] = quali_data_new[column].fillna(filling)\n",
      "C:\\Users\\Evidya\\AppData\\Local\\Temp\\ipykernel_12184\\1909092107.py:27: FutureWarning: Downcasting object dtype arrays on .fillna, .ffill, .bfill is deprecated and will change in a future version. Call result.infer_objects(copy=False) instead. To opt-in to the future behavior, set `pd.set_option('future.no_silent_downcasting', True)`\n",
      "  original_data[column] = original_data[column].fillna(filling)\n",
      "C:\\Users\\Evidya\\AppData\\Local\\Temp\\ipykernel_12184\\1909092107.py:29: FutureWarning: Downcasting object dtype arrays on .fillna, .ffill, .bfill is deprecated and will change in a future version. Call result.infer_objects(copy=False) instead. To opt-in to the future behavior, set `pd.set_option('future.no_silent_downcasting', True)`\n",
      "  quali_data_new[column] = quali_data_new[column].fillna(filling)\n",
      "C:\\Users\\Evidya\\AppData\\Local\\Temp\\ipykernel_12184\\1909092107.py:27: FutureWarning: Downcasting object dtype arrays on .fillna, .ffill, .bfill is deprecated and will change in a future version. Call result.infer_objects(copy=False) instead. To opt-in to the future behavior, set `pd.set_option('future.no_silent_downcasting', True)`\n",
      "  original_data[column] = original_data[column].fillna(filling)\n",
      "C:\\Users\\Evidya\\AppData\\Local\\Temp\\ipykernel_12184\\1909092107.py:29: FutureWarning: Downcasting object dtype arrays on .fillna, .ffill, .bfill is deprecated and will change in a future version. Call result.infer_objects(copy=False) instead. To opt-in to the future behavior, set `pd.set_option('future.no_silent_downcasting', True)`\n",
      "  quali_data_new[column] = quali_data_new[column].fillna(filling)\n",
      "C:\\Users\\Evidya\\AppData\\Local\\Temp\\ipykernel_12184\\1909092107.py:27: FutureWarning: Downcasting object dtype arrays on .fillna, .ffill, .bfill is deprecated and will change in a future version. Call result.infer_objects(copy=False) instead. To opt-in to the future behavior, set `pd.set_option('future.no_silent_downcasting', True)`\n",
      "  original_data[column] = original_data[column].fillna(filling)\n",
      "C:\\Users\\Evidya\\AppData\\Local\\Temp\\ipykernel_12184\\1909092107.py:29: FutureWarning: Downcasting object dtype arrays on .fillna, .ffill, .bfill is deprecated and will change in a future version. Call result.infer_objects(copy=False) instead. To opt-in to the future behavior, set `pd.set_option('future.no_silent_downcasting', True)`\n",
      "  quali_data_new[column] = quali_data_new[column].fillna(filling)\n",
      "C:\\Users\\Evidya\\AppData\\Local\\Temp\\ipykernel_12184\\1909092107.py:27: FutureWarning: Downcasting object dtype arrays on .fillna, .ffill, .bfill is deprecated and will change in a future version. Call result.infer_objects(copy=False) instead. To opt-in to the future behavior, set `pd.set_option('future.no_silent_downcasting', True)`\n",
      "  original_data[column] = original_data[column].fillna(filling)\n",
      "C:\\Users\\Evidya\\AppData\\Local\\Temp\\ipykernel_12184\\1909092107.py:29: FutureWarning: Downcasting object dtype arrays on .fillna, .ffill, .bfill is deprecated and will change in a future version. Call result.infer_objects(copy=False) instead. To opt-in to the future behavior, set `pd.set_option('future.no_silent_downcasting', True)`\n",
      "  quali_data_new[column] = quali_data_new[column].fillna(filling)\n"
     ]
    }
   ],
   "source": [
    "orig, new = quali_quanti_preprocessing(X_train, X_test)"
   ]
  },
  {
   "cell_type": "code",
   "execution_count": 192,
   "metadata": {},
   "outputs": [],
   "source": [
    "X_train, X_test, y_train, y_test = define_target(orig, new, target=target)"
   ]
  },
  {
   "cell_type": "code",
   "execution_count": 193,
   "metadata": {},
   "outputs": [],
   "source": [
    "quali_train, quali_test, quanti_train, quanti_test = split_type(X_train, X_test, to_drop=[], ohe_name=\"OHE_r.pkl\")"
   ]
  },
  {
   "cell_type": "code",
   "execution_count": 194,
   "metadata": {},
   "outputs": [],
   "source": [
    "# quali_train_mca, quali_test_mca =  chunking_MCA(quali_train, quali_test, n_components=10, n_iter=10, seed=0, chunk_size=1000)"
   ]
  },
  {
   "cell_type": "code",
   "execution_count": 195,
   "metadata": {},
   "outputs": [],
   "source": [
    "X_train_, X_test_ = merge_type_back(quali_train, quali_test, quanti_train, quanti_test, X_train.index, X_test.index)"
   ]
  },
  {
   "cell_type": "code",
   "execution_count": 196,
   "metadata": {},
   "outputs": [
    {
     "data": {
      "text/plain": [
       "Index(['Année_construction', 'Deperditions_baies_vitrées',\n",
       "       'Deperditions_enveloppe', 'Deperditions_planchers_bas',\n",
       "       'Deperditions_planchers_hauts', 'Déperditions_murs',\n",
       "       'Déperditions_ponts_thermiques', 'Déperditions_portes',\n",
       "       'Déperditions_renouvellement_air', 'Hauteur_sous-plafond',\n",
       "       'Inertie_lourde_(0/1)', 'Isolation_toiture_(0/1)',\n",
       "       'Logement_traversant_(0/1)', 'N°_étage_appartement',\n",
       "       'Protection_solaire_exterieure_(0/1)', 'Présence_brasseur_air_(0/1)',\n",
       "       'Surface_habitable_logement'],\n",
       "      dtype='object')"
      ]
     },
     "execution_count": 196,
     "metadata": {},
     "output_type": "execute_result"
    }
   ],
   "source": [
    "quanti_train.columns"
   ]
  },
  {
   "cell_type": "code",
   "execution_count": 197,
   "metadata": {},
   "outputs": [],
   "source": [
    "from sklearn.preprocessing import StandardScaler\n",
    "\n",
    "# Initialiser le StandardScaler\n",
    "scaler = StandardScaler()\n",
    "\n",
    "\n",
    "X_train_scaled = pd.DataFrame(scaler.fit_transform(X_train_), index=X_train_.index, columns=X_train_.columns)\n",
    "X_test_scaled = pd.DataFrame(scaler.transform(X_test_), index=X_test_.index, columns=X_test_.columns)"
   ]
  },
  {
   "cell_type": "code",
   "execution_count": 198,
   "metadata": {},
   "outputs": [],
   "source": [
    "# Initialiser le StandardScaler pour les cibles (y)\n",
    "scaler_y = StandardScaler()\n",
    "\n",
    "# Convertir y_train et y_test en tableau NumPy pour appliquer reshape\n",
    "y_train_scaled = scaler_y.fit_transform(np.array(y_train).reshape(-1, 1))\n",
    "y_test_scaled = scaler_y.transform(np.array(y_test).reshape(-1, 1))"
   ]
  },
  {
   "cell_type": "code",
   "execution_count": 199,
   "metadata": {},
   "outputs": [
    {
     "name": "stdout",
     "output_type": "stream",
     "text": [
      "(137199, 56)\n",
      "137199\n"
     ]
    }
   ],
   "source": [
    "print(X_test_scaled.shape)\n",
    "print(len(y_test_scaled))"
   ]
  },
  {
   "cell_type": "code",
   "execution_count": 200,
   "metadata": {},
   "outputs": [
    {
     "name": "stderr",
     "output_type": "stream",
     "text": [
      "c:\\Users\\Evidya\\Documents\\cours M2\\python ML\\projet\\projet_ml\\m2-enedis\\.venv\\Lib\\site-packages\\sklearn\\base.py:1473: DataConversionWarning: A column-vector y was passed when a 1d array was expected. Please change the shape of y to (n_samples,), for example using ravel().\n",
      "  return fit_method(estimator, *args, **kwargs)\n"
     ]
    }
   ],
   "source": [
    "from sklearn.ensemble import RandomForestRegressor\n",
    "\n",
    "rf = RandomForestRegressor(max_depth=5, random_state=42)\n",
    "rf.fit(X_train_scaled, y_train_scaled)\n",
    "y_pred = rf.predict(X_test_scaled)"
   ]
  },
  {
   "cell_type": "code",
   "execution_count": 201,
   "metadata": {},
   "outputs": [
    {
     "data": {
      "text/plain": [
       "array(['Année_construction', 'Deperditions_baies_vitrées',\n",
       "       'Deperditions_enveloppe', 'Deperditions_planchers_bas',\n",
       "       'Deperditions_planchers_hauts', 'Déperditions_murs',\n",
       "       'Déperditions_ponts_thermiques', 'Déperditions_portes',\n",
       "       'Déperditions_renouvellement_air', 'Hauteur_sous-plafond',\n",
       "       'Inertie_lourde_(0/1)', 'Isolation_toiture_(0/1)',\n",
       "       'Logement_traversant_(0/1)', 'N°_étage_appartement',\n",
       "       'Protection_solaire_exterieure_(0/1)',\n",
       "       'Présence_brasseur_air_(0/1)', 'Surface_habitable_logement',\n",
       "       'Etiquette_DPE_A', 'Etiquette_DPE_B', 'Etiquette_DPE_C',\n",
       "       'Etiquette_DPE_D', 'Etiquette_DPE_E', 'Etiquette_DPE_F',\n",
       "       'Etiquette_DPE_G', 'Indicateur_confort_été_bon',\n",
       "       'Indicateur_confort_été_insuffisant',\n",
       "       'Indicateur_confort_été_moyen',\n",
       "       'Qualité_isolation_enveloppe_bonne',\n",
       "       'Qualité_isolation_enveloppe_insuffisante',\n",
       "       'Qualité_isolation_enveloppe_moyenne',\n",
       "       'Qualité_isolation_enveloppe_très bonne',\n",
       "       'Qualité_isolation_menuiseries_bonne',\n",
       "       'Qualité_isolation_menuiseries_insuffisante',\n",
       "       'Qualité_isolation_menuiseries_moyenne',\n",
       "       'Qualité_isolation_menuiseries_très bonne',\n",
       "       'Qualité_isolation_murs_bonne',\n",
       "       'Qualité_isolation_murs_insuffisante',\n",
       "       'Qualité_isolation_murs_moyenne',\n",
       "       'Qualité_isolation_murs_très bonne',\n",
       "       'Qualité_isolation_plancher_bas_bonne',\n",
       "       'Qualité_isolation_plancher_bas_insuffisante',\n",
       "       'Qualité_isolation_plancher_bas_moyenne',\n",
       "       'Qualité_isolation_plancher_bas_très bonne',\n",
       "       'Type_énergie_n°1_Bois – Bûches',\n",
       "       'Type_énergie_n°1_Bois – Granulés (pellets) ou briquettes',\n",
       "       'Type_énergie_n°1_Bois – Plaquettes d’industrie',\n",
       "       'Type_énergie_n°1_Bois – Plaquettes forestières',\n",
       "       'Type_énergie_n°1_Butane', 'Type_énergie_n°1_Charbon',\n",
       "       'Type_énergie_n°1_Fioul domestique', 'Type_énergie_n°1_GPL',\n",
       "       'Type_énergie_n°1_Gaz naturel', 'Type_énergie_n°1_Propane',\n",
       "       'Type_énergie_n°1_Réseau de Chauffage urbain',\n",
       "       'Type_énergie_n°1_Électricité',\n",
       "       \"Type_énergie_n°1_Électricité d'origine renouvelable utilisée dans le bâtiment\"],\n",
       "      dtype=object)"
      ]
     },
     "execution_count": 201,
     "metadata": {},
     "output_type": "execute_result"
    }
   ],
   "source": [
    "rf.feature_names_in_"
   ]
  },
  {
   "cell_type": "code",
   "execution_count": 202,
   "metadata": {},
   "outputs": [
    {
     "data": {
      "image/png": "[encoded data removed]",
      "text/plain": [
       "<Figure size 800x800 with 1 Axes>"
      ]
     },
     "metadata": {},
     "output_type": "display_data"
    }
   ],
   "source": [
    "plt.figure(figsize=(8,8))\n",
    "\n",
    "feature_names = rf.feature_names_in_[:20]\n",
    "\n",
    "mdi_importances = pd.Series(\n",
    "    rf.feature_importances_[:20], index=feature_names\n",
    ").sort_values(ascending=True)\n",
    "\n",
    "ax = mdi_importances.plot.barh()\n",
    "ax.set_title(\"Random Forest Feature Importances (MDI)\")\n",
    "ax.figure.tight_layout()"
   ]
  },
  {
   "cell_type": "code",
   "execution_count": 203,
   "metadata": {},
   "outputs": [],
   "source": [
    "vars_selected = ['Année_construction', 'Surface_habitable_logement',\n",
    "       'Deperditions_enveloppe', 'Déperditions_renouvellement_air']"
   ]
  },
  {
   "cell_type": "code",
   "execution_count": 204,
   "metadata": {},
   "outputs": [
    {
     "data": {
      "text/html": [
       "<div>\n",
       "<style scoped>\n",
       "    .dataframe tbody tr th:only-of-type {\n",
       "        vertical-align: middle;\n",
       "    }\n",
       "\n",
       "    .dataframe tbody tr th {\n",
       "        vertical-align: top;\n",
       "    }\n",
       "\n",
       "    .dataframe thead th {\n",
       "        text-align: right;\n",
       "    }\n",
       "</style>\n",
       "<table border=\"1\" class=\"dataframe\">\n",
       "  <thead>\n",
       "    <tr style=\"text-align: right;\">\n",
       "      <th></th>\n",
       "      <th>Année_construction</th>\n",
       "      <th>Surface_habitable_logement</th>\n",
       "      <th>Deperditions_enveloppe</th>\n",
       "      <th>Déperditions_renouvellement_air</th>\n",
       "    </tr>\n",
       "  </thead>\n",
       "  <tbody>\n",
       "    <tr>\n",
       "      <th>Année_construction</th>\n",
       "      <td>1.000000</td>\n",
       "      <td>0.013003</td>\n",
       "      <td>-0.084785</td>\n",
       "      <td>-0.073794</td>\n",
       "    </tr>\n",
       "    <tr>\n",
       "      <th>Surface_habitable_logement</th>\n",
       "      <td>0.013003</td>\n",
       "      <td>1.000000</td>\n",
       "      <td>-0.033925</td>\n",
       "      <td>-0.042113</td>\n",
       "    </tr>\n",
       "    <tr>\n",
       "      <th>Deperditions_enveloppe</th>\n",
       "      <td>-0.084785</td>\n",
       "      <td>-0.033925</td>\n",
       "      <td>1.000000</td>\n",
       "      <td>0.965556</td>\n",
       "    </tr>\n",
       "    <tr>\n",
       "      <th>Déperditions_renouvellement_air</th>\n",
       "      <td>-0.073794</td>\n",
       "      <td>-0.042113</td>\n",
       "      <td>0.965556</td>\n",
       "      <td>1.000000</td>\n",
       "    </tr>\n",
       "  </tbody>\n",
       "</table>\n",
       "</div>"
      ],
      "text/plain": [
       "                                 Année_construction  \\\n",
       "Année_construction                         1.000000   \n",
       "Surface_habitable_logement                 0.013003   \n",
       "Deperditions_enveloppe                    -0.084785   \n",
       "Déperditions_renouvellement_air           -0.073794   \n",
       "\n",
       "                                 Surface_habitable_logement  \\\n",
       "Année_construction                                 0.013003   \n",
       "Surface_habitable_logement                         1.000000   \n",
       "Deperditions_enveloppe                            -0.033925   \n",
       "Déperditions_renouvellement_air                   -0.042113   \n",
       "\n",
       "                                 Deperditions_enveloppe  \\\n",
       "Année_construction                            -0.084785   \n",
       "Surface_habitable_logement                    -0.033925   \n",
       "Deperditions_enveloppe                         1.000000   \n",
       "Déperditions_renouvellement_air                0.965556   \n",
       "\n",
       "                                 Déperditions_renouvellement_air  \n",
       "Année_construction                                     -0.073794  \n",
       "Surface_habitable_logement                             -0.042113  \n",
       "Deperditions_enveloppe                                  0.965556  \n",
       "Déperditions_renouvellement_air                         1.000000  "
      ]
     },
     "execution_count": 204,
     "metadata": {},
     "output_type": "execute_result"
    }
   ],
   "source": [
    "X_train_scaled[vars_selected].corr()"
   ]
  },
  {
   "cell_type": "code",
   "execution_count": 207,
   "metadata": {},
   "outputs": [
    {
     "data": {
      "image/png": "[encoded data removed]",
      "text/plain": [
       "<Figure size 640x480 with 1 Axes>"
      ]
     },
     "metadata": {},
     "output_type": "display_data"
    },
    {
     "name": "stdout",
     "output_type": "stream",
     "text": [
      "R2 : 0.838612461067486\n",
      "RMSE : 0.394715090098158\n",
      "MAE : 0.10086487248382904\n"
     ]
    },
    {
     "name": "stderr",
     "output_type": "stream",
     "text": [
      "c:\\Users\\Evidya\\Documents\\cours M2\\python ML\\projet\\projet_ml\\m2-enedis\\.venv\\Lib\\site-packages\\sklearn\\metrics\\_regression.py:492: FutureWarning: 'squared' is deprecated in version 1.4 and will be removed in 1.6. To calculate the root mean squared error, use the function'root_mean_squared_error'.\n",
      "  warnings.warn(\n"
     ]
    }
   ],
   "source": [
    "from sklearn.tree import DecisionTreeRegressor\n",
    "import seaborn as sns \n",
    "from sklearn.metrics import mean_squared_error, r2_score, mean_absolute_error\n",
    "\n",
    "\n",
    "tree_model = DecisionTreeRegressor(max_depth = 20,min_samples_split = 10, min_samples_leaf = 1)\n",
    "\n",
    "tree_model.fit(X_train_scaled[vars_selected], y_train_scaled)\n",
    "\n",
    "y_pred = tree_model.predict(X_test_scaled[vars_selected])\n",
    "# Aplatir y_test_scaled pour le rendre 1D\n",
    "y_test_scaled = y_test_scaled.flatten()  # Transforme en vecteur 1D\n",
    "\n",
    "# Affichage du scatterplot\n",
    "sns.scatterplot(x=y_test_scaled, y=y_pred, legend=None)\n",
    "# plt.plot([min(y_test_scaled), max(y_test_scaled)], [min(y_test_scaled), max(y_test_scaled)], color='red', linestyle='--')  # Ligne y = x\n",
    "\n",
    "plt.title(f'Decision Tree Regressor: R2 = {r2_score(y_test_scaled, y_pred):.3f}')\n",
    "plt.xlabel('Valeurs réelles')\n",
    "plt.ylabel('Valeurs prédites')\n",
    "plt.show()\n",
    "\n",
    "# Affichage des autres métriques\n",
    "print(\"R2 : \" + str(r2_score(y_test_scaled, y_pred)))\n",
    "print(\"RMSE : \" + str(mean_squared_error(y_test_scaled, y_pred, squared=False)))\n",
    "print(\"MAE : \" + str(mean_absolute_error(y_test_scaled, y_pred)))"
   ]
  },
  {
   "cell_type": "code",
   "execution_count": null,
   "metadata": {},
   "outputs": [],
   "source": []
  },
  {
   "cell_type": "code",
   "execution_count": 208,
   "metadata": {},
   "outputs": [
    {
     "data": {
      "text/plain": [
       "'from sklearn.model_selection import GridSearchCV\\n\\nparam_grid = {\\n    \\'n_estimators\\': [100, 200, 300],           # Number of trees in the forest\\n    \\'max_depth\\': [10, 20, 30, None],           # Maximum depth of each tree\\n    \\'min_samples_split\\': [2, 5, 10],           # Minimum samples required to split an internal node\\n    \\'min_samples_leaf\\': [1, 2, 4]              # Minimum samples required to be a leaf node\\n}\\n\\n# Initialize the model\\nrf_model = RandomForestRegressor(random_state=42)\\n\\n# Set up GridSearchCV with five-fold cross-validation\\ngrid_search = GridSearchCV(\\n    estimator=rf_model,\\n    param_grid=param_grid,\\n    cv=5,\\n    scoring=\\'r2\\',   # You can change this to \\'neg_mean_squared_error\\' or other metrics if preferred\\n    n_jobs=-1       # Use all available cores for parallel processing\\n)\\n\\n# Fit GridSearchCV on the training data\\ngrid_search.fit(X_train_scaled[vars_selected], y_train_scaled)\\n\\n# Get the best model and parameters from GridSearchCV\\nbest_rf_model = grid_search.best_estimator_\\nprint(\"Best Parameters from GridSearch:\", grid_search.best_params_)\\n\\n# Make predictions using the best model from GridSearchCV\\ny_pred = best_rf_model.predict(X_test_scaled[vars_selected])\\n\\n# Flatten y_test_scaled if needed\\ny_test_scaled = y_test_scaled.flatten()\\n\\n# Plot actual vs predicted values\\nsns.scatterplot(x=y_test_scaled, y=y_pred)\\nplt.plot([min(y_test_scaled), max(y_test_scaled)], [min(y_test_scaled), max(y_test_scaled)], color=\\'red\\', linestyle=\\'--\\')  # y=x line\\nplt.title(f\\'Random Forest Regressor with GridSearchCV: R2 = {r2_score(y_test_scaled, y_pred):.3f}\\')\\nplt.xlabel(\\'Actual Values\\')\\nplt.ylabel(\\'Predicted Values\\')\\nplt.show()\\n\\n# Display metrics\\nprint(\"R2:\", r2_score(y_test_scaled, y_pred))\\nprint(\"RMSE:\", mean_squared_error(y_test_scaled, y_pred, squared=False))\\nprint(\"MAE:\", mean_absolute_error(y_test_scaled, y_pred))'"
      ]
     },
     "execution_count": 208,
     "metadata": {},
     "output_type": "execute_result"
    }
   ],
   "source": [
    "\"\"\"from sklearn.model_selection import GridSearchCV\n",
    "\n",
    "param_grid = {\n",
    "    'n_estimators': [100, 200, 300],           # Number of trees in the forest\n",
    "    'max_depth': [10, 20, 30, None],           # Maximum depth of each tree\n",
    "    'min_samples_split': [2, 5, 10],           # Minimum samples required to split an internal node\n",
    "    'min_samples_leaf': [1, 2, 4]              # Minimum samples required to be a leaf node\n",
    "}\n",
    "\n",
    "# Initialize the model\n",
    "rf_model = RandomForestRegressor(random_state=42)\n",
    "\n",
    "# Set up GridSearchCV with five-fold cross-validation\n",
    "grid_search = GridSearchCV(\n",
    "    estimator=rf_model,\n",
    "    param_grid=param_grid,\n",
    "    cv=5,\n",
    "    scoring='r2',   # You can change this to 'neg_mean_squared_error' or other metrics if preferred\n",
    "    n_jobs=-1       # Use all available cores for parallel processing\n",
    ")\n",
    "\n",
    "# Fit GridSearchCV on the training data\n",
    "grid_search.fit(X_train_scaled[vars_selected], y_train_scaled)\n",
    "\n",
    "# Get the best model and parameters from GridSearchCV\n",
    "best_rf_model = grid_search.best_estimator_\n",
    "print(\"Best Parameters from GridSearch:\", grid_search.best_params_)\n",
    "\n",
    "# Make predictions using the best model from GridSearchCV\n",
    "y_pred = best_rf_model.predict(X_test_scaled[vars_selected])\n",
    "\n",
    "# Flatten y_test_scaled if needed\n",
    "y_test_scaled = y_test_scaled.flatten()\n",
    "\n",
    "# Plot actual vs predicted values\n",
    "sns.scatterplot(x=y_test_scaled, y=y_pred)\n",
    "plt.plot([min(y_test_scaled), max(y_test_scaled)], [min(y_test_scaled), max(y_test_scaled)], color='red', linestyle='--')  # y=x line\n",
    "plt.title(f'Random Forest Regressor with GridSearchCV: R2 = {r2_score(y_test_scaled, y_pred):.3f}')\n",
    "plt.xlabel('Actual Values')\n",
    "plt.ylabel('Predicted Values')\n",
    "plt.show()\n",
    "\n",
    "# Display metrics\n",
    "print(\"R2:\", r2_score(y_test_scaled, y_pred))\n",
    "print(\"RMSE:\", mean_squared_error(y_test_scaled, y_pred, squared=False))\n",
    "print(\"MAE:\", mean_absolute_error(y_test_scaled, y_pred))\"\"\""
   ]
  },
  {
   "cell_type": "code",
   "execution_count": null,
   "metadata": {},
   "outputs": [],
   "source": [
    "\n",
    "pk.dump(rf, open(os.path.join(\"models\",\"rf_tuned_regression.pkl\"), \"wb\"))"
   ]
  },
  {
   "cell_type": "code",
   "execution_count": null,
   "metadata": {},
   "outputs": [],
   "source": []
  }
 ],
 "metadata": {
  "kernelspec": {
   "display_name": ".venv",
   "language": "python",
   "name": "python3"
  },
  "language_info": {
   "codemirror_mode": {
    "name": "ipython",
    "version": 3
   },
   "file_extension": ".py",
   "mimetype": "text/x-python",
   "name": "python",
   "nbconvert_exporter": "python",
   "pygments_lexer": "ipython3",
   "version": "3.11.5"
  }
 },
 "nbformat": 4,
 "nbformat_minor": 2
}
