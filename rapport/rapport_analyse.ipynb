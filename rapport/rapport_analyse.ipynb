{
 "cells": [
  {
   "cell_type": "markdown",
   "metadata": {},
   "source": [
    "# 🚀 Analyse des Consommations Énergétique en Bretagne\n",
    "\n",
    "## **Contexte**\n",
    "Dans ce projet, nous analysons les données liées aux logements en Bretagne pour mieux comprendre leur consommation énergétique et identifier des pistes d'amélioration. L'objectif est d'évaluer les coûts énergétiques et leur relation avec les caractéristiques des logements."
   ]
  },
  {
   "cell_type": "markdown",
   "metadata": {},
   "source": [
    "\n",
    "\n",
    "## **1. Étapes de l'Analyse**\n",
    "\n",
    "### **1.1. Préparation des Données**\n",
    "- **Chargement des données** :\n",
    "  - `logements_neufs.csv` : Données des nouveaux logements.\n",
    "  - `logements_existants.csv` : Données des logements existants.\n",
    "  \n",
    "  "
   ]
  },
  {
   "cell_type": "code",
   "execution_count": 2,
   "metadata": {},
   "outputs": [
    {
     "name": "stderr",
     "output_type": "stream",
     "text": [
      "C:\\Users\\Evidya\\AppData\\Local\\Temp\\ipykernel_12480\\2771025338.py:2: DtypeWarning: Columns (80,100,111,112,132,133) have mixed types. Specify dtype option on import or set low_memory=False.\n",
      "  logements_neufs = pd.read_csv('../data/raw/neufs.csv')\n",
      "C:\\Users\\Evidya\\AppData\\Local\\Temp\\ipykernel_12480\\2771025338.py:3: DtypeWarning: Columns (159,191,202,208,214,215,218,219,220,221,228,232) have mixed types. Specify dtype option on import or set low_memory=False.\n",
      "  logements_existants = pd.read_csv('../data/raw/existents.csv')\n"
     ]
    }
   ],
   "source": [
    "import pandas as pd\n",
    "logements_neufs = pd.read_csv('../data/raw/neufs.csv')\n",
    "logements_existants = pd.read_csv('../data/raw/existents.csv')"
   ]
  },
  {
   "cell_type": "code",
   "execution_count": 8,
   "metadata": {},
   "outputs": [],
   "source": [
    "pd.set_option('display.max_columns', None)"
   ]
  },
  {
   "cell_type": "code",
   "execution_count": 9,
   "metadata": {},
   "outputs": [
    {
     "name": "stdout",
     "output_type": "stream",
     "text": [
      "Index(['Conso_chauffage_dépensier_é_finale', 'Emission_GES_ECS',\n",
      "       'Type_énergie_n°1', 'Nom__commune_(BAN)', 'Emission_GES_chauffage',\n",
      "       'Date_réception_DPE', 'Coût_ECS_énergie_n°1', 'Conso_ECS_é_finale',\n",
      "       'Coût_total_5_usages', 'Emission_GES_5_usages',\n",
      "       ...\n",
      "       'Deperditions_planchers_hauts', 'Déperditions_renouvellement_air',\n",
      "       'Déperditions_portes', 'Deperditions_baies_vitrées',\n",
      "       'Déperditions_ponts_thermiques', 'Besoin_chauffage',\n",
      "       'Deperditions_enveloppe', 'Cage_d'escalier', 'Classe_inertie_bâtiment',\n",
      "       'Surface_tertiaire_immeuble'],\n",
      "      dtype='object', length=135)\n"
     ]
    }
   ],
   "source": [
    "print(logements_neufs.columns)"
   ]
  },
  {
   "cell_type": "code",
   "execution_count": 10,
   "metadata": {},
   "outputs": [
    {
     "name": "stdout",
     "output_type": "stream",
     "text": [
      "Index(['Conso_chauffage_dépensier_é_finale',\n",
      "       'Volume_stockage_générateur_ECS_n°1', 'Conso_é_finale_installation_ECS',\n",
      "       'Nom__commune_(BAN)', 'Emission_GES_chauffage',\n",
      "       'Conso_ECS_é_finale_énergie_n°2', 'Conso_ECS_é_finale_énergie_n°1',\n",
      "       'Besoin_refroidissement',\n",
      "       'Conso_chauffage_dépensier_installation_chauffage_n°1',\n",
      "       'Coût_total_5_usages',\n",
      "       ...\n",
      "       'Type_énergie_climatisation', 'Conso_refroidissement_annuel',\n",
      "       'Surface_climatisée', 'Cage_d'escalier', 'Electricité_PV_autoconsommée',\n",
      "       'Surface_tertiaire_immeuble',\n",
      "       'Facteur_couverture_solaire_installation_chauffage_n°2',\n",
      "       'Invariant_fiscal_logement', 'Facteur_couverture_solaire_saisi',\n",
      "       'Facteur_couverture_solaire_saisi_installation_chauffage_n°1'],\n",
      "      dtype='object', length=235)\n"
     ]
    }
   ],
   "source": [
    "print(logements_existants.columns)"
   ]
  }
 ],
 "metadata": {
  "kernelspec": {
   "display_name": ".venv",
   "language": "python",
   "name": "python3"
  },
  "language_info": {
   "codemirror_mode": {
    "name": "ipython",
    "version": 3
   },
   "file_extension": ".py",
   "mimetype": "text/x-python",
   "name": "python",
   "nbconvert_exporter": "python",
   "pygments_lexer": "ipython3",
   "version": "3.11.5"
  }
 },
 "nbformat": 4,
 "nbformat_minor": 2
}
